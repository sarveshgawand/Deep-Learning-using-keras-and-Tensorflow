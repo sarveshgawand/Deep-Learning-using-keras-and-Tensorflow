{
 "cells": [
  {
   "cell_type": "markdown",
   "metadata": {},
   "source": [
    "# Imports"
   ]
  },
  {
   "cell_type": "code",
   "execution_count": 1,
   "metadata": {},
   "outputs": [
    {
     "name": "stderr",
     "output_type": "stream",
     "text": [
      "Using TensorFlow backend.\n"
     ]
    }
   ],
   "source": [
    "import keras\n",
    "import tensorflow as tf\n",
    "from keras.datasets import cifar10"
   ]
  },
  {
   "cell_type": "code",
   "execution_count": 2,
   "metadata": {},
   "outputs": [],
   "source": [
    "(x_train, y_train), (x_test,y_test) = cifar10.load_data()"
   ]
  },
  {
   "cell_type": "code",
   "execution_count": 3,
   "metadata": {},
   "outputs": [],
   "source": [
    "from IPython.core.display import  display\n",
    "from keras.preprocessing.image import array_to_img, load_img"
   ]
  },
  {
   "cell_type": "code",
   "execution_count": 4,
   "metadata": {},
   "outputs": [
    {
     "data": {
      "text/plain": [
       "(50000, 32, 32, 3)"
      ]
     },
     "execution_count": 4,
     "metadata": {},
     "output_type": "execute_result"
    }
   ],
   "source": [
    "x_train.shape"
   ]
  },
  {
   "cell_type": "code",
   "execution_count": 5,
   "metadata": {},
   "outputs": [
    {
     "data": {
      "image/png": "[encoded data removed]",
      "text/plain": [
       "<PIL.Image.Image image mode=RGB size=32x32 at 0x1A8D133A438>"
      ]
     },
     "execution_count": 5,
     "metadata": {},
     "output_type": "execute_result"
    }
   ],
   "source": [
    "array_to_img(x_train[0])"
   ]
  },
  {
   "cell_type": "markdown",
   "metadata": {},
   "source": [
    "# constants"
   ]
  },
  {
   "cell_type": "code",
   "execution_count": 6,
   "metadata": {},
   "outputs": [],
   "source": [
    "LABELS = ['airplane','automobile' , 'bird','cat','deer','dog','frog','horse','ship','truck']\n",
    "height = 32\n",
    "width = 32\n",
    "pixels = height * width\n",
    "channels = 3\n",
    "total_pix = pixels * channels\n",
    "validation = 10000"
   ]
  },
  {
   "cell_type": "markdown",
   "metadata": {},
   "source": [
    "# Sample plots"
   ]
  },
  {
   "cell_type": "code",
   "execution_count": 7,
   "metadata": {},
   "outputs": [],
   "source": [
    "\n",
    "for i in range(10):\n",
    "    \n",
    "    plt.subplot(1,10,i+1)\n",
    "    plt.imshow(x_train[i])\n",
    "    plt.xticks([])\n",
    "    plt.yticks([])\n",
    "    plt.xlabel(LABELS[y_train[i][0]], fontsize=14)\n",
    "    plt.figure(figsize=(10,8))"
   ]
  },
  {
   "cell_type": "markdown",
   "metadata": {},
   "source": [
    "# Dimensions of Data set"
   ]
  },
  {
   "cell_type": "code",
   "execution_count": 8,
   "metadata": {},
   "outputs": [],
   "source": [
    "num , x,y,c = x_train.shape"
   ]
  },
  {
   "cell_type": "code",
   "execution_count": 9,
   "metadata": {},
   "outputs": [
    {
     "name": "stdout",
     "output_type": "stream",
     "text": [
      "images :50000\t| width :32\t| height :32\t| channels: 3\n"
     ]
    }
   ],
   "source": [
    "print(f'images :{num}\\t| width :{x}\\t| height :{y}\\t| channels: {c}')"
   ]
  },
  {
   "cell_type": "code",
   "execution_count": 10,
   "metadata": {},
   "outputs": [],
   "source": [
    "num , x,y,c = x_test.shape"
   ]
  },
  {
   "cell_type": "code",
   "execution_count": 11,
   "metadata": {},
   "outputs": [
    {
     "name": "stdout",
     "output_type": "stream",
     "text": [
      "images :10000\t| width :32\t| height :32\t| channels: 3\n"
     ]
    }
   ],
   "source": [
    "print(f'images :{num}\\t| width :{x}\\t| height :{y}\\t| channels: {c}')"
   ]
  },
  {
   "cell_type": "markdown",
   "metadata": {},
   "source": [
    "# Dimension reduction"
   ]
  },
  {
   "cell_type": "code",
   "execution_count": 12,
   "metadata": {},
   "outputs": [],
   "source": [
    "x_train , x_test = x_train/255.0 , x_test/255.0"
   ]
  },
  {
   "cell_type": "code",
   "execution_count": 13,
   "metadata": {},
   "outputs": [
    {
     "data": {
      "text/plain": [
       "50000"
      ]
     },
     "execution_count": 13,
     "metadata": {},
     "output_type": "execute_result"
    }
   ],
   "source": [
    "x_train.shape[0]"
   ]
  },
  {
   "cell_type": "code",
   "execution_count": 14,
   "metadata": {},
   "outputs": [],
   "source": [
    "x_train = x_train.reshape(x_train.shape[0],total_pix)"
   ]
  },
  {
   "cell_type": "code",
   "execution_count": 15,
   "metadata": {},
   "outputs": [
    {
     "data": {
      "text/plain": [
       "(50000, 3072)"
      ]
     },
     "execution_count": 15,
     "metadata": {},
     "output_type": "execute_result"
    }
   ],
   "source": [
    "x_train.shape"
   ]
  },
  {
   "cell_type": "code",
   "execution_count": 16,
   "metadata": {},
   "outputs": [],
   "source": [
    "x_test = x_test.reshape(x_test.shape[0],total_pix)"
   ]
  },
  {
   "cell_type": "code",
   "execution_count": 17,
   "metadata": {},
   "outputs": [
    {
     "data": {
      "text/plain": [
       "(10000, 3072)"
      ]
     },
     "execution_count": 17,
     "metadata": {},
     "output_type": "execute_result"
    }
   ],
   "source": [
    "x_test.shape"
   ]
  },
  {
   "cell_type": "markdown",
   "metadata": {},
   "source": [
    "# Splitting into Validation and train sets"
   ]
  },
  {
   "cell_type": "code",
   "execution_count": 18,
   "metadata": {},
   "outputs": [
    {
     "data": {
      "text/plain": [
       "(10000, 3072)"
      ]
     },
     "execution_count": 18,
     "metadata": {},
     "output_type": "execute_result"
    }
   ],
   "source": [
    "x_val = x_train[:validation]\n",
    "y_val = y_train[:validation]\n",
    "x_val.shape"
   ]
  },
  {
   "cell_type": "code",
   "execution_count": 19,
   "metadata": {},
   "outputs": [
    {
     "data": {
      "text/plain": [
       "((40000, 3072), (40000, 1))"
      ]
     },
     "execution_count": 19,
     "metadata": {},
     "output_type": "execute_result"
    }
   ],
   "source": [
    "x_train = x_train[validation:]\n",
    "y_train = y_train[validation:]\n",
    "x_train.shape , y_train.shape"
   ]
  },
  {
   "cell_type": "markdown",
   "metadata": {},
   "source": [
    "# Sample dataset to test"
   ]
  },
  {
   "cell_type": "code",
   "execution_count": 20,
   "metadata": {},
   "outputs": [
    {
     "data": {
      "text/plain": [
       "(40000, 3072)"
      ]
     },
     "execution_count": 20,
     "metadata": {},
     "output_type": "execute_result"
    }
   ],
   "source": [
    "x_train_s = x_train[:1000]\n",
    "y_train_s = y_train[:1000]\n",
    "x_train.shape"
   ]
  },
  {
   "cell_type": "code",
   "execution_count": 21,
   "metadata": {},
   "outputs": [
    {
     "data": {
      "text/plain": [
       "(1000, 3072)"
      ]
     },
     "execution_count": 21,
     "metadata": {},
     "output_type": "execute_result"
    }
   ],
   "source": [
    "x_train_s.shape"
   ]
  },
  {
   "cell_type": "code",
   "execution_count": 28,
   "metadata": {},
   "outputs": [],
   "source": [
    "import os\n",
    "from keras.models import Sequential\n",
    "from keras.layers import Dense, Activation, Dropout\n",
    "from keras.callbacks import TensorBoard\n",
    "from time import strftime\n"
   ]
  },
  {
   "cell_type": "markdown",
   "metadata": {},
   "source": [
    "# Define Neural network for keras "
   ]
  },
  {
   "cell_type": "code",
   "execution_count": 33,
   "metadata": {},
   "outputs": [],
   "source": [
    "model_1 = Sequential([\n",
    "    Dense(units =128 , input_dim = total_pix , activation = 'relu' , name = 'm1_hidden1'),\n",
    "    Dense(units = 64 , activation = 'relu' , name = 'm1_hidden2'),\n",
    "    Dense(units = 16 , activation = 'relu' , name = 'm1_hidden3'),\n",
    "    Dense(units = 10 , activation = 'softmax' , name = 'm1_output')\n",
    "])\n",
    "\n",
    "\n",
    "model_1.compile(optimizer = 'adam' , \n",
    "               loss = 'sparse_categorical_crossentropy',\n",
    "               metrics = ['accuracy'])"
   ]
  },
  {
   "cell_type": "code",
   "execution_count": 34,
   "metadata": {},
   "outputs": [],
   "source": [
    "model_2 = Sequential()\n",
    "model_2.add(Dropout(.2, seed = 42, input_shape = (total_pix,)))\n",
    "model_2.add(Dense (128 , activation = 'relu', name = 'm2_hidden1'))\n",
    "model_2.add(Dense (64 , activation = 'relu', name = 'm2_hidden2'))\n",
    "model_2.add(Dense (16 , activation = 'relu', name = 'm2_hidde3'))\n",
    "model_2.add(Dense (10 , activation = 'softmax', name = 'm2_output'))\n",
    "\n",
    "model_2.compile(optimizer = 'adam' , \n",
    "               loss = 'sparse_categorical_crossentropy',\n",
    "               metrics = ['accuracy'])"
   ]
  },
  {
   "cell_type": "code",
   "execution_count": 35,
   "metadata": {},
   "outputs": [],
   "source": [
    "model_3 = Sequential()\n",
    "model_3.add(Dropout(.2, seed = 42, input_shape = (total_pix,)))\n",
    "model_3.add(Dense (128 , activation = 'relu', name = 'm3_hidden1'))\n",
    "model_3.add(Dropout(.25, seed = 42))\n",
    "model_3.add(Dense (64 , activation = 'relu', name = 'm3_hidden2'))\n",
    "model_3.add(Dense (16 , activation = 'relu', name = 'm3_hidde3'))\n",
    "model_3.add(Dense (10 , activation = 'softmax', name = 'm3_output'))\n",
    "\n",
    "model_3.compile(optimizer = 'adam' , \n",
    "               loss = 'sparse_categorical_crossentropy',\n",
    "               metrics = ['accuracy'])"
   ]
  },
  {
   "cell_type": "code",
   "execution_count": 36,
   "metadata": {},
   "outputs": [
    {
     "data": {
      "text/plain": [
       "keras.engine.sequential.Sequential"
      ]
     },
     "execution_count": 36,
     "metadata": {},
     "output_type": "execute_result"
    }
   ],
   "source": [
    "type(model_1)"
   ]
  },
  {
   "cell_type": "code",
   "execution_count": 37,
   "metadata": {},
   "outputs": [
    {
     "name": "stdout",
     "output_type": "stream",
     "text": [
      "Model: \"sequential_4\"\n",
      "_________________________________________________________________\n",
      "Layer (type)                 Output Shape              Param #   \n",
      "=================================================================\n",
      "m1_hidden1 (Dense)           (None, 128)               393344    \n",
      "_________________________________________________________________\n",
      "m1_hidden2 (Dense)           (None, 64)                8256      \n",
      "_________________________________________________________________\n",
      "m1_hidden3 (Dense)           (None, 16)                1040      \n",
      "_________________________________________________________________\n",
      "m1_output (Dense)            (None, 10)                170       \n",
      "=================================================================\n",
      "Total params: 402,810\n",
      "Trainable params: 402,810\n",
      "Non-trainable params: 0\n",
      "_________________________________________________________________\n"
     ]
    }
   ],
   "source": [
    "model_1.summary()"
   ]
  },
  {
   "cell_type": "code",
   "execution_count": 38,
   "metadata": {},
   "outputs": [
    {
     "name": "stdout",
     "output_type": "stream",
     "text": [
      "Model: \"sequential_5\"\n",
      "_________________________________________________________________\n",
      "Layer (type)                 Output Shape              Param #   \n",
      "=================================================================\n",
      "dropout_3 (Dropout)          (None, 3072)              0         \n",
      "_________________________________________________________________\n",
      "m2_hidden1 (Dense)           (None, 128)               393344    \n",
      "_________________________________________________________________\n",
      "m2_hidden2 (Dense)           (None, 64)                8256      \n",
      "_________________________________________________________________\n",
      "m2_hidde3 (Dense)            (None, 16)                1040      \n",
      "_________________________________________________________________\n",
      "m2_output (Dense)            (None, 10)                170       \n",
      "=================================================================\n",
      "Total params: 402,810\n",
      "Trainable params: 402,810\n",
      "Non-trainable params: 0\n",
      "_________________________________________________________________\n"
     ]
    }
   ],
   "source": [
    "model_2.summary()"
   ]
  },
  {
   "cell_type": "code",
   "execution_count": 39,
   "metadata": {},
   "outputs": [
    {
     "name": "stdout",
     "output_type": "stream",
     "text": [
      "Model: \"sequential_6\"\n",
      "_________________________________________________________________\n",
      "Layer (type)                 Output Shape              Param #   \n",
      "=================================================================\n",
      "dropout_4 (Dropout)          (None, 3072)              0         \n",
      "_________________________________________________________________\n",
      "m3_hidden1 (Dense)           (None, 128)               393344    \n",
      "_________________________________________________________________\n",
      "dropout_5 (Dropout)          (None, 128)               0         \n",
      "_________________________________________________________________\n",
      "m3_hidden2 (Dense)           (None, 64)                8256      \n",
      "_________________________________________________________________\n",
      "m3_hidde3 (Dense)            (None, 16)                1040      \n",
      "_________________________________________________________________\n",
      "m3_output (Dense)            (None, 10)                170       \n",
      "=================================================================\n",
      "Total params: 402,810\n",
      "Trainable params: 402,810\n",
      "Non-trainable params: 0\n",
      "_________________________________________________________________\n"
     ]
    }
   ],
   "source": [
    "model_3.summary()"
   ]
  },
  {
   "cell_type": "markdown",
   "metadata": {},
   "source": [
    "model_1.summary()"
   ]
  },
  {
   "cell_type": "code",
   "execution_count": 25,
   "metadata": {},
   "outputs": [],
   "source": [
    "def get_tensorboard(model_name):\n",
    "    dir_path = os.path.join(r\"C:\\Users\\SARVESH\\Documents\\GitHub\\Machine learning course\",'first')\n",
    "    \n",
    "    try:\n",
    "        os.makedirs(dir_path)\n",
    "    except OSError as err:\n",
    "        print(err.strerror)\n",
    "    else:\n",
    "        print('Sucessfully created directory')\n",
    "    return TensorBoard(log_dir = dir_path)"
   ]
  },
  {
   "cell_type": "markdown",
   "metadata": {},
   "source": [
    "# Fit the model"
   ]
  },
  {
   "cell_type": "code",
   "execution_count": 26,
   "metadata": {},
   "outputs": [
    {
     "name": "stdout",
     "output_type": "stream",
     "text": [
      "Cannot create a file when that file already exists\n",
      "Train on 1000 samples, validate on 10000 samples\n",
      "Epoch 1/200\n",
      "1000/1000 [==============================] - 3s 3ms/step - loss: 2.3252 - accuracy: 0.0840 - val_loss: 2.3488 - val_accuracy: 0.1168\n",
      "Epoch 2/200\n"
     ]
    },
    {
     "name": "stderr",
     "output_type": "stream",
     "text": [
      "C:\\ProgramData\\Anaconda3\\lib\\site-packages\\keras\\callbacks\\callbacks.py:95: RuntimeWarning: Method (on_train_batch_end) is slow compared to the batch update (0.629631). Check your callbacks.\n",
      "  % (hook_name, delta_t_median), RuntimeWarning)\n"
     ]
    },
    {
     "name": "stdout",
     "output_type": "stream",
     "text": [
      "1000/1000 [==============================] - 1s 1ms/step - loss: 2.3246 - accuracy: 0.1430 - val_loss: 2.3529 - val_accuracy: 0.1081\n",
      "Epoch 3/200\n",
      "1000/1000 [==============================] - 1s 625us/step - loss: 2.3302 - accuracy: 0.1090 - val_loss: 2.2696 - val_accuracy: 0.1499\n",
      "Epoch 4/200\n",
      "1000/1000 [==============================] - 1s 651us/step - loss: 2.2556 - accuracy: 0.1720 - val_loss: 2.2540 - val_accuracy: 0.1641\n",
      "Epoch 5/200\n",
      "1000/1000 [==============================] - 1s 704us/step - loss: 2.2379 - accuracy: 0.1960 - val_loss: 2.2374 - val_accuracy: 0.1576\n",
      "Epoch 6/200\n",
      "1000/1000 [==============================] - 1s 652us/step - loss: 2.2123 - accuracy: 0.1950 - val_loss: 2.2163 - val_accuracy: 0.1728\n",
      "Epoch 7/200\n",
      "1000/1000 [==============================] - 1s 670us/step - loss: 2.1846 - accuracy: 0.2030 - val_loss: 2.2181 - val_accuracy: 0.1795\n",
      "Epoch 8/200\n",
      "1000/1000 [==============================] - 1s 640us/step - loss: 2.1845 - accuracy: 0.1990 - val_loss: 2.1977 - val_accuracy: 0.2026\n",
      "Epoch 9/200\n",
      "1000/1000 [==============================] - 1s 580us/step - loss: 2.1512 - accuracy: 0.2360 - val_loss: 2.2067 - val_accuracy: 0.1844\n",
      "Epoch 10/200\n",
      "1000/1000 [==============================] - 1s 620us/step - loss: 2.1525 - accuracy: 0.2180 - val_loss: 2.1859 - val_accuracy: 0.1964\n",
      "Epoch 11/200\n",
      "1000/1000 [==============================] - 1s 590us/step - loss: 2.1359 - accuracy: 0.2330 - val_loss: 2.1822 - val_accuracy: 0.1903\n",
      "Epoch 12/200\n",
      "1000/1000 [==============================] - 1s 587us/step - loss: 2.1299 - accuracy: 0.2240 - val_loss: 2.1661 - val_accuracy: 0.1996\n",
      "Epoch 13/200\n",
      "1000/1000 [==============================] - 1s 700us/step - loss: 2.1113 - accuracy: 0.2430 - val_loss: 2.1711 - val_accuracy: 0.1966\n",
      "Epoch 14/200\n",
      "1000/1000 [==============================] - 1s 680us/step - loss: 2.1137 - accuracy: 0.2360 - val_loss: 2.1491 - val_accuracy: 0.2093\n",
      "Epoch 15/200\n",
      "1000/1000 [==============================] - 1s 652us/step - loss: 2.0882 - accuracy: 0.2490 - val_loss: 2.1543 - val_accuracy: 0.2097\n",
      "Epoch 16/200\n",
      "1000/1000 [==============================] - 1s 689us/step - loss: 2.0894 - accuracy: 0.2510 - val_loss: 2.1428 - val_accuracy: 0.2163\n",
      "Epoch 17/200\n",
      "1000/1000 [==============================] - 1s 564us/step - loss: 2.0701 - accuracy: 0.2720 - val_loss: 2.1460 - val_accuracy: 0.2239\n",
      "Epoch 18/200\n",
      "1000/1000 [==============================] - 1s 817us/step - loss: 2.0652 - accuracy: 0.2810 - val_loss: 2.1391 - val_accuracy: 0.2237\n",
      "Epoch 19/200\n",
      "1000/1000 [==============================] - 1s 751us/step - loss: 2.0518 - accuracy: 0.2740 - val_loss: 2.1253 - val_accuracy: 0.2281\n",
      "Epoch 20/200\n",
      "1000/1000 [==============================] - 1s 670us/step - loss: 2.0361 - accuracy: 0.2820 - val_loss: 2.1195 - val_accuracy: 0.2303\n",
      "Epoch 21/200\n",
      "1000/1000 [==============================] - 1s 658us/step - loss: 2.0297 - accuracy: 0.2760 - val_loss: 2.1080 - val_accuracy: 0.2415\n",
      "Epoch 22/200\n",
      "1000/1000 [==============================] - 1s 586us/step - loss: 2.0143 - accuracy: 0.3050 - val_loss: 2.1094 - val_accuracy: 0.2428\n",
      "Epoch 23/200\n",
      "1000/1000 [==============================] - 1s 634us/step - loss: 2.0094 - accuracy: 0.3010 - val_loss: 2.0953 - val_accuracy: 0.2427\n",
      "Epoch 24/200\n",
      "1000/1000 [==============================] - 1s 602us/step - loss: 1.9935 - accuracy: 0.3000 - val_loss: 2.0911 - val_accuracy: 0.2403\n",
      "Epoch 25/200\n",
      "1000/1000 [==============================] - 1s 604us/step - loss: 1.9887 - accuracy: 0.3060 - val_loss: 2.0857 - val_accuracy: 0.2453\n",
      "Epoch 26/200\n",
      "1000/1000 [==============================] - 1s 617us/step - loss: 1.9741 - accuracy: 0.3030 - val_loss: 2.0904 - val_accuracy: 0.2460\n",
      "Epoch 27/200\n",
      "1000/1000 [==============================] - 1s 771us/step - loss: 1.9684 - accuracy: 0.3010 - val_loss: 2.0789 - val_accuracy: 0.2521\n",
      "Epoch 28/200\n",
      "1000/1000 [==============================] - 1s 619us/step - loss: 1.9539 - accuracy: 0.3180 - val_loss: 2.0708 - val_accuracy: 0.2532\n",
      "Epoch 29/200\n",
      "1000/1000 [==============================] - 1s 595us/step - loss: 1.9440 - accuracy: 0.3200 - val_loss: 2.0676 - val_accuracy: 0.2548\n",
      "Epoch 30/200\n",
      "1000/1000 [==============================] - 1s 615us/step - loss: 1.9329 - accuracy: 0.3240 - val_loss: 2.0659 - val_accuracy: 0.2602\n",
      "Epoch 31/200\n",
      "1000/1000 [==============================] - 1s 618us/step - loss: 1.9217 - accuracy: 0.3340 - val_loss: 2.0607 - val_accuracy: 0.2644\n",
      "Epoch 32/200\n",
      "1000/1000 [==============================] - 1s 655us/step - loss: 1.9106 - accuracy: 0.3380 - val_loss: 2.0556 - val_accuracy: 0.2641\n",
      "Epoch 33/200\n",
      "1000/1000 [==============================] - 1s 617us/step - loss: 1.9010 - accuracy: 0.3400 - val_loss: 2.0545 - val_accuracy: 0.2708\n",
      "Epoch 34/200\n",
      "1000/1000 [==============================] - 1s 633us/step - loss: 1.8929 - accuracy: 0.3430 - val_loss: 2.0506 - val_accuracy: 0.2743\n",
      "Epoch 35/200\n",
      "1000/1000 [==============================] - 1s 584us/step - loss: 1.8828 - accuracy: 0.3610 - val_loss: 2.0464 - val_accuracy: 0.2779\n",
      "Epoch 36/200\n",
      "1000/1000 [==============================] - 1s 564us/step - loss: 1.8725 - accuracy: 0.3510 - val_loss: 2.0414 - val_accuracy: 0.2742\n",
      "Epoch 37/200\n",
      "1000/1000 [==============================] - 1s 624us/step - loss: 1.8617 - accuracy: 0.3550 - val_loss: 2.0369 - val_accuracy: 0.2788\n",
      "Epoch 38/200\n",
      "1000/1000 [==============================] - 1s 608us/step - loss: 1.8524 - accuracy: 0.3620 - val_loss: 2.0360 - val_accuracy: 0.2852\n",
      "Epoch 39/200\n",
      "1000/1000 [==============================] - 1s 911us/step - loss: 1.8428 - accuracy: 0.3760 - val_loss: 2.0335 - val_accuracy: 0.2792\n",
      "Epoch 40/200\n",
      "1000/1000 [==============================] - 1s 726us/step - loss: 1.8338 - accuracy: 0.3730 - val_loss: 2.0336 - val_accuracy: 0.2830\n",
      "Epoch 41/200\n",
      "1000/1000 [==============================] - 1s 585us/step - loss: 1.8251 - accuracy: 0.3800 - val_loss: 2.0278 - val_accuracy: 0.2851\n",
      "Epoch 42/200\n",
      "1000/1000 [==============================] - 1s 633us/step - loss: 1.8177 - accuracy: 0.3730 - val_loss: 2.0292 - val_accuracy: 0.2887\n",
      "Epoch 43/200\n",
      "1000/1000 [==============================] - 1s 613us/step - loss: 1.8063 - accuracy: 0.3940 - val_loss: 2.0233 - val_accuracy: 0.2833\n",
      "Epoch 44/200\n",
      "1000/1000 [==============================] - 1s 608us/step - loss: 1.7950 - accuracy: 0.3910 - val_loss: 2.0176 - val_accuracy: 0.2910\n",
      "Epoch 45/200\n",
      "1000/1000 [==============================] - 1s 628us/step - loss: 1.7827 - accuracy: 0.3950 - val_loss: 2.0167 - val_accuracy: 0.2928\n",
      "Epoch 46/200\n",
      "1000/1000 [==============================] - 1s 584us/step - loss: 1.7723 - accuracy: 0.4080 - val_loss: 2.0170 - val_accuracy: 0.2878\n",
      "Epoch 47/200\n",
      "1000/1000 [==============================] - 1s 632us/step - loss: 1.7634 - accuracy: 0.4020 - val_loss: 2.0188 - val_accuracy: 0.2922\n",
      "Epoch 48/200\n",
      "1000/1000 [==============================] - 1s 846us/step - loss: 1.7568 - accuracy: 0.4090 - val_loss: 2.0162 - val_accuracy: 0.2915\n",
      "Epoch 49/200\n",
      "1000/1000 [==============================] - 1s 615us/step - loss: 1.7532 - accuracy: 0.3950 - val_loss: 2.0170 - val_accuracy: 0.2950\n",
      "Epoch 50/200\n",
      "1000/1000 [==============================] - 1s 894us/step - loss: 1.7415 - accuracy: 0.4090 - val_loss: 2.0101 - val_accuracy: 0.2881\n",
      "Epoch 51/200\n",
      "1000/1000 [==============================] - 1s 626us/step - loss: 1.7304 - accuracy: 0.4090 - val_loss: 2.0023 - val_accuracy: 0.2992\n",
      "Epoch 52/200\n",
      "1000/1000 [==============================] - 1s 765us/step - loss: 1.7160 - accuracy: 0.4210 - val_loss: 2.0038 - val_accuracy: 0.3014\n",
      "Epoch 53/200\n",
      "1000/1000 [==============================] - 1s 775us/step - loss: 1.7095 - accuracy: 0.4360 - val_loss: 2.0115 - val_accuracy: 0.2893\n",
      "Epoch 54/200\n",
      "1000/1000 [==============================] - 1s 885us/step - loss: 1.7108 - accuracy: 0.4160 - val_loss: 2.0225 - val_accuracy: 0.2998\n",
      "Epoch 55/200\n",
      "1000/1000 [==============================] - 1s 640us/step - loss: 1.7075 - accuracy: 0.4220 - val_loss: 2.0048 - val_accuracy: 0.2915\n",
      "Epoch 56/200\n",
      "1000/1000 [==============================] - 1s 640us/step - loss: 1.6939 - accuracy: 0.4080 - val_loss: 1.9967 - val_accuracy: 0.3043\n",
      "Epoch 57/200\n",
      "1000/1000 [==============================] - 1s 602us/step - loss: 1.6731 - accuracy: 0.4470 - val_loss: 1.9992 - val_accuracy: 0.3041\n",
      "Epoch 58/200\n",
      "1000/1000 [==============================] - 1s 568us/step - loss: 1.6674 - accuracy: 0.4440 - val_loss: 1.9996 - val_accuracy: 0.2975\n",
      "Epoch 59/200\n",
      "1000/1000 [==============================] - 1s 536us/step - loss: 1.6662 - accuracy: 0.4270 - val_loss: 2.0079 - val_accuracy: 0.3105\n",
      "Epoch 60/200\n",
      "1000/1000 [==============================] - 1s 628us/step - loss: 1.6587 - accuracy: 0.4460 - val_loss: 1.9996 - val_accuracy: 0.2978\n",
      "Epoch 61/200\n",
      "1000/1000 [==============================] - 1s 816us/step - loss: 1.6471 - accuracy: 0.4380 - val_loss: 1.9946 - val_accuracy: 0.3064\n",
      "Epoch 62/200\n",
      "1000/1000 [==============================] - 1s 721us/step - loss: 1.6309 - accuracy: 0.4630 - val_loss: 1.9949 - val_accuracy: 0.3115\n",
      "Epoch 63/200\n",
      "1000/1000 [==============================] - 1s 795us/step - loss: 1.6219 - accuracy: 0.4670 - val_loss: 1.9953 - val_accuracy: 0.3029\n",
      "Epoch 64/200\n",
      "1000/1000 [==============================] - 1s 784us/step - loss: 1.6183 - accuracy: 0.4450 - val_loss: 2.0022 - val_accuracy: 0.3090\n",
      "Epoch 65/200\n",
      "1000/1000 [==============================] - 1s 902us/step - loss: 1.6110 - accuracy: 0.4620 - val_loss: 1.9954 - val_accuracy: 0.3054\n",
      "Epoch 66/200\n",
      "1000/1000 [==============================] - 1s 710us/step - loss: 1.6030 - accuracy: 0.4630 - val_loss: 1.9948 - val_accuracy: 0.3120\n",
      "Epoch 67/200\n",
      "1000/1000 [==============================] - 1s 642us/step - loss: 1.5912 - accuracy: 0.4680 - val_loss: 1.9923 - val_accuracy: 0.3094\n",
      "Epoch 68/200\n",
      "1000/1000 [==============================] - 1s 604us/step - loss: 1.5797 - accuracy: 0.4680 - val_loss: 1.9979 - val_accuracy: 0.3100\n",
      "Epoch 69/200\n",
      "1000/1000 [==============================] - 1s 623us/step - loss: 1.5718 - accuracy: 0.4860 - val_loss: 1.9923 - val_accuracy: 0.3110\n",
      "Epoch 70/200\n",
      "1000/1000 [==============================] - 1s 604us/step - loss: 1.5658 - accuracy: 0.4730 - val_loss: 1.9960 - val_accuracy: 0.3089\n",
      "Epoch 71/200\n",
      "1000/1000 [==============================] - 1s 593us/step - loss: 1.5552 - accuracy: 0.4900 - val_loss: 1.9926 - val_accuracy: 0.3151\n",
      "Epoch 72/200\n",
      "1000/1000 [==============================] - 1s 648us/step - loss: 1.5452 - accuracy: 0.4960 - val_loss: 1.9921 - val_accuracy: 0.3101\n",
      "Epoch 73/200\n",
      "1000/1000 [==============================] - 1s 632us/step - loss: 1.5399 - accuracy: 0.4760 - val_loss: 2.0136 - val_accuracy: 0.3139\n",
      "Epoch 74/200\n",
      "1000/1000 [==============================] - 1s 690us/step - loss: 1.5391 - accuracy: 0.4910 - val_loss: 2.0118 - val_accuracy: 0.2965\n",
      "Epoch 75/200\n",
      "1000/1000 [==============================] - 1s 599us/step - loss: 1.5527 - accuracy: 0.4650 - val_loss: 2.0468 - val_accuracy: 0.3083\n",
      "Epoch 76/200\n",
      "1000/1000 [==============================] - 1s 530us/step - loss: 1.5595 - accuracy: 0.4780 - val_loss: 2.0175 - val_accuracy: 0.2972\n",
      "Epoch 77/200\n",
      "1000/1000 [==============================] - 1s 625us/step - loss: 1.5492 - accuracy: 0.4760 - val_loss: 1.9957 - val_accuracy: 0.3176\n",
      "Epoch 78/200\n",
      "1000/1000 [==============================] - 1s 626us/step - loss: 1.4990 - accuracy: 0.5020 - val_loss: 2.0274 - val_accuracy: 0.3104\n",
      "Epoch 79/200\n",
      "1000/1000 [==============================] - 1s 613us/step - loss: 1.5142 - accuracy: 0.4950 - val_loss: 2.0155 - val_accuracy: 0.2991\n",
      "Epoch 80/200\n",
      "1000/1000 [==============================] - 1s 530us/step - loss: 1.5216 - accuracy: 0.4780 - val_loss: 2.0010 - val_accuracy: 0.3178\n",
      "Epoch 81/200\n",
      "1000/1000 [==============================] - 1s 549us/step - loss: 1.4810 - accuracy: 0.5080 - val_loss: 2.0298 - val_accuracy: 0.3074\n",
      "Epoch 82/200\n",
      "1000/1000 [==============================] - 1s 610us/step - loss: 1.4934 - accuracy: 0.5090 - val_loss: 2.0012 - val_accuracy: 0.3050\n",
      "Epoch 83/200\n",
      "1000/1000 [==============================] - 1s 550us/step - loss: 1.4788 - accuracy: 0.5090 - val_loss: 2.0071 - val_accuracy: 0.3155\n",
      "Epoch 84/200\n",
      "1000/1000 [==============================] - 1s 549us/step - loss: 1.4659 - accuracy: 0.5140 - val_loss: 2.0250 - val_accuracy: 0.3069\n",
      "Epoch 85/200\n",
      "1000/1000 [==============================] - 1s 530us/step - loss: 1.4640 - accuracy: 0.5130 - val_loss: 1.9995 - val_accuracy: 0.3126\n",
      "Epoch 86/200\n",
      "1000/1000 [==============================] - 1s 610us/step - loss: 1.4405 - accuracy: 0.5210 - val_loss: 2.0084 - val_accuracy: 0.3157\n",
      "Epoch 87/200\n",
      "1000/1000 [==============================] - 1s 650us/step - loss: 1.4431 - accuracy: 0.5270 - val_loss: 2.0056 - val_accuracy: 0.3137\n",
      "Epoch 88/200\n",
      "1000/1000 [==============================] - 1s 614us/step - loss: 1.4272 - accuracy: 0.5360 - val_loss: 2.0151 - val_accuracy: 0.3108\n",
      "Epoch 89/200\n",
      "1000/1000 [==============================] - 1s 620us/step - loss: 1.4276 - accuracy: 0.5240 - val_loss: 2.0063 - val_accuracy: 0.3152\n",
      "Epoch 90/200\n",
      "1000/1000 [==============================] - 1s 673us/step - loss: 1.4133 - accuracy: 0.5430 - val_loss: 2.0033 - val_accuracy: 0.3176\n",
      "Epoch 91/200\n",
      "1000/1000 [==============================] - 1s 680us/step - loss: 1.4018 - accuracy: 0.5430 - val_loss: 2.0169 - val_accuracy: 0.3106\n",
      "Epoch 92/200\n",
      "1000/1000 [==============================] - 1s 585us/step - loss: 1.4063 - accuracy: 0.5280 - val_loss: 2.0066 - val_accuracy: 0.3161\n",
      "Epoch 93/200\n",
      "1000/1000 [==============================] - 1s 654us/step - loss: 1.3886 - accuracy: 0.5450 - val_loss: 2.0130 - val_accuracy: 0.3178\n",
      "Epoch 94/200\n",
      "1000/1000 [==============================] - 1s 575us/step - loss: 1.3900 - accuracy: 0.5420 - val_loss: 2.0098 - val_accuracy: 0.3127\n",
      "Epoch 95/200\n",
      "1000/1000 [==============================] - 1s 579us/step - loss: 1.3793 - accuracy: 0.5490 - val_loss: 2.0190 - val_accuracy: 0.3153\n",
      "Epoch 96/200\n",
      "1000/1000 [==============================] - 1s 623us/step - loss: 1.3675 - accuracy: 0.5610 - val_loss: 2.0071 - val_accuracy: 0.3173\n",
      "Epoch 97/200\n",
      "1000/1000 [==============================] - 1s 637us/step - loss: 1.3615 - accuracy: 0.5630 - val_loss: 2.0059 - val_accuracy: 0.3203\n",
      "Epoch 98/200\n",
      "1000/1000 [==============================] - 1s 591us/step - loss: 1.3456 - accuracy: 0.5680 - val_loss: 2.0176 - val_accuracy: 0.3169\n",
      "Epoch 99/200\n",
      "1000/1000 [==============================] - 1s 603us/step - loss: 1.3442 - accuracy: 0.5710 - val_loss: 2.0077 - val_accuracy: 0.3188\n",
      "Epoch 100/200\n",
      "1000/1000 [==============================] - 1s 655us/step - loss: 1.3332 - accuracy: 0.5690 - val_loss: 2.0140 - val_accuracy: 0.3200\n",
      "Epoch 101/200\n",
      "1000/1000 [==============================] - 1s 710us/step - loss: 1.3283 - accuracy: 0.5720 - val_loss: 2.0212 - val_accuracy: 0.3139\n",
      "Epoch 102/200\n",
      "1000/1000 [==============================] - 1s 704us/step - loss: 1.3259 - accuracy: 0.5770 - val_loss: 2.0280 - val_accuracy: 0.3174\n",
      "Epoch 103/200\n",
      "1000/1000 [==============================] - 1s 539us/step - loss: 1.3187 - accuracy: 0.5730 - val_loss: 2.0282 - val_accuracy: 0.3163\n",
      "Epoch 104/200\n",
      "1000/1000 [==============================] - 1s 517us/step - loss: 1.3287 - accuracy: 0.5740 - val_loss: 2.0443 - val_accuracy: 0.3162\n",
      "Epoch 105/200\n",
      "1000/1000 [==============================] - 1s 586us/step - loss: 1.3211 - accuracy: 0.5600 - val_loss: 2.0400 - val_accuracy: 0.3134\n",
      "Epoch 106/200\n",
      "1000/1000 [==============================] - 1s 539us/step - loss: 1.3232 - accuracy: 0.5620 - val_loss: 2.0330 - val_accuracy: 0.3240\n",
      "Epoch 107/200\n",
      "1000/1000 [==============================] - 1s 564us/step - loss: 1.2954 - accuracy: 0.5820 - val_loss: 2.0193 - val_accuracy: 0.3153\n",
      "Epoch 108/200\n",
      "1000/1000 [==============================] - 1s 539us/step - loss: 1.2762 - accuracy: 0.5880 - val_loss: 2.0367 - val_accuracy: 0.3170\n",
      "Epoch 109/200\n",
      "1000/1000 [==============================] - 1s 579us/step - loss: 1.2730 - accuracy: 0.5970 - val_loss: 2.0327 - val_accuracy: 0.3199\n",
      "Epoch 110/200\n",
      "1000/1000 [==============================] - 1s 638us/step - loss: 1.2734 - accuracy: 0.5920 - val_loss: 2.0388 - val_accuracy: 0.3162\n",
      "Epoch 111/200\n",
      "1000/1000 [==============================] - 1s 608us/step - loss: 1.2680 - accuracy: 0.6000 - val_loss: 2.0521 - val_accuracy: 0.3159\n",
      "Epoch 112/200\n",
      "1000/1000 [==============================] - 1s 652us/step - loss: 1.2593 - accuracy: 0.5910 - val_loss: 2.0308 - val_accuracy: 0.3183\n",
      "Epoch 113/200\n",
      "1000/1000 [==============================] - 1s 929us/step - loss: 1.2603 - accuracy: 0.6050 - val_loss: 2.0658 - val_accuracy: 0.3160\n",
      "Epoch 114/200\n",
      "1000/1000 [==============================] - 1s 722us/step - loss: 1.2544 - accuracy: 0.6020 - val_loss: 2.0411 - val_accuracy: 0.3086\n",
      "Epoch 115/200\n",
      "1000/1000 [==============================] - 1s 708us/step - loss: 1.2464 - accuracy: 0.5920 - val_loss: 2.0401 - val_accuracy: 0.3235\n",
      "Epoch 116/200\n",
      "1000/1000 [==============================] - 1s 698us/step - loss: 1.2244 - accuracy: 0.6170 - val_loss: 2.0341 - val_accuracy: 0.3235\n",
      "Epoch 117/200\n",
      "1000/1000 [==============================] - 1s 625us/step - loss: 1.2078 - accuracy: 0.6230 - val_loss: 2.0475 - val_accuracy: 0.3091\n",
      "Epoch 118/200\n",
      "1000/1000 [==============================] - 1s 557us/step - loss: 1.2149 - accuracy: 0.6090 - val_loss: 2.0652 - val_accuracy: 0.3227\n",
      "Epoch 119/200\n",
      "1000/1000 [==============================] - 1s 630us/step - loss: 1.2134 - accuracy: 0.6130 - val_loss: 2.0409 - val_accuracy: 0.3179\n",
      "Epoch 120/200\n",
      "1000/1000 [==============================] - 1s 560us/step - loss: 1.2018 - accuracy: 0.6290 - val_loss: 2.0748 - val_accuracy: 0.3116\n",
      "Epoch 121/200\n",
      "1000/1000 [==============================] - 1s 605us/step - loss: 1.2007 - accuracy: 0.6160 - val_loss: 2.0618 - val_accuracy: 0.3194\n",
      "Epoch 122/200\n",
      "1000/1000 [==============================] - 1s 589us/step - loss: 1.2052 - accuracy: 0.6240 - val_loss: 2.0575 - val_accuracy: 0.3200\n",
      "Epoch 123/200\n",
      "1000/1000 [==============================] - 1s 555us/step - loss: 1.1896 - accuracy: 0.6300 - val_loss: 2.0601 - val_accuracy: 0.3122\n",
      "Epoch 124/200\n",
      "1000/1000 [==============================] - 1s 674us/step - loss: 1.1698 - accuracy: 0.6400 - val_loss: 2.0578 - val_accuracy: 0.3221\n",
      "Epoch 125/200\n",
      "1000/1000 [==============================] - 1s 735us/step - loss: 1.1579 - accuracy: 0.6430 - val_loss: 2.0627 - val_accuracy: 0.3196\n",
      "Epoch 126/200\n",
      "1000/1000 [==============================] - 1s 740us/step - loss: 1.1687 - accuracy: 0.6400 - val_loss: 2.0687 - val_accuracy: 0.3150\n",
      "Epoch 127/200\n",
      "1000/1000 [==============================] - 1s 690us/step - loss: 1.1486 - accuracy: 0.6470 - val_loss: 2.0840 - val_accuracy: 0.3174\n",
      "Epoch 128/200\n",
      "1000/1000 [==============================] - 1s 693us/step - loss: 1.1449 - accuracy: 0.6390 - val_loss: 2.0676 - val_accuracy: 0.3175\n",
      "Epoch 129/200\n",
      "1000/1000 [==============================] - 1s 685us/step - loss: 1.1585 - accuracy: 0.6450 - val_loss: 2.1103 - val_accuracy: 0.3150\n",
      "Epoch 130/200\n",
      "1000/1000 [==============================] - 1s 664us/step - loss: 1.1525 - accuracy: 0.6260 - val_loss: 2.0878 - val_accuracy: 0.3086\n",
      "Epoch 131/200\n",
      "1000/1000 [==============================] - 1s 644us/step - loss: 1.1545 - accuracy: 0.6350 - val_loss: 2.0968 - val_accuracy: 0.3176\n",
      "Epoch 132/200\n",
      "1000/1000 [==============================] - 1s 735us/step - loss: 1.1348 - accuracy: 0.6370 - val_loss: 2.0826 - val_accuracy: 0.3197\n",
      "Epoch 133/200\n",
      "1000/1000 [==============================] - 1s 710us/step - loss: 1.1230 - accuracy: 0.6550 - val_loss: 2.0766 - val_accuracy: 0.3165\n",
      "Epoch 134/200\n",
      "1000/1000 [==============================] - 1s 685us/step - loss: 1.0982 - accuracy: 0.6570 - val_loss: 2.0739 - val_accuracy: 0.3219\n",
      "Epoch 135/200\n",
      "1000/1000 [==============================] - 1s 700us/step - loss: 1.0879 - accuracy: 0.6670 - val_loss: 2.0797 - val_accuracy: 0.3176\n",
      "Epoch 136/200\n",
      "1000/1000 [==============================] - 1s 760us/step - loss: 1.0925 - accuracy: 0.6700 - val_loss: 2.1041 - val_accuracy: 0.3159\n",
      "Epoch 137/200\n",
      "1000/1000 [==============================] - 1s 658us/step - loss: 1.0913 - accuracy: 0.6610 - val_loss: 2.0952 - val_accuracy: 0.3159\n",
      "Epoch 138/200\n",
      "1000/1000 [==============================] - 1s 600us/step - loss: 1.0989 - accuracy: 0.6610 - val_loss: 2.1074 - val_accuracy: 0.3153\n",
      "Epoch 139/200\n",
      "1000/1000 [==============================] - 1s 645us/step - loss: 1.0788 - accuracy: 0.6640 - val_loss: 2.0880 - val_accuracy: 0.3163\n",
      "Epoch 140/200\n",
      "1000/1000 [==============================] - 1s 610us/step - loss: 1.0626 - accuracy: 0.6870 - val_loss: 2.0900 - val_accuracy: 0.3219\n",
      "Epoch 141/200\n",
      "1000/1000 [==============================] - 1s 596us/step - loss: 1.0494 - accuracy: 0.6810 - val_loss: 2.0896 - val_accuracy: 0.3186\n",
      "Epoch 142/200\n",
      "1000/1000 [==============================] - 1s 610us/step - loss: 1.0403 - accuracy: 0.6920 - val_loss: 2.0998 - val_accuracy: 0.3201\n",
      "Epoch 143/200\n",
      "1000/1000 [==============================] - 1s 650us/step - loss: 1.0419 - accuracy: 0.6850 - val_loss: 2.1094 - val_accuracy: 0.3180\n",
      "Epoch 144/200\n",
      "1000/1000 [==============================] - 1s 705us/step - loss: 1.0357 - accuracy: 0.6850 - val_loss: 2.1051 - val_accuracy: 0.3128\n",
      "Epoch 145/200\n",
      "1000/1000 [==============================] - 1s 617us/step - loss: 1.0363 - accuracy: 0.6880 - val_loss: 2.1323 - val_accuracy: 0.3200\n",
      "Epoch 146/200\n",
      "1000/1000 [==============================] - 1s 615us/step - loss: 1.0335 - accuracy: 0.6730 - val_loss: 2.1095 - val_accuracy: 0.3134\n",
      "Epoch 147/200\n",
      "1000/1000 [==============================] - 1s 614us/step - loss: 1.0334 - accuracy: 0.6820 - val_loss: 2.1379 - val_accuracy: 0.3182\n",
      "Epoch 148/200\n",
      "1000/1000 [==============================] - 1s 630us/step - loss: 1.0211 - accuracy: 0.6830 - val_loss: 2.1035 - val_accuracy: 0.3173\n",
      "Epoch 149/200\n",
      "1000/1000 [==============================] - 1s 609us/step - loss: 1.0035 - accuracy: 0.7040 - val_loss: 2.1120 - val_accuracy: 0.3200\n",
      "Epoch 150/200\n",
      "1000/1000 [==============================] - 1s 569us/step - loss: 0.9854 - accuracy: 0.7090 - val_loss: 2.1120 - val_accuracy: 0.3196\n",
      "Epoch 151/200\n",
      "1000/1000 [==============================] - 1s 595us/step - loss: 0.9758 - accuracy: 0.7080 - val_loss: 2.1079 - val_accuracy: 0.3174\n",
      "Epoch 152/200\n",
      "1000/1000 [==============================] - 1s 586us/step - loss: 0.9720 - accuracy: 0.7210 - val_loss: 2.1354 - val_accuracy: 0.3211\n",
      "Epoch 153/200\n",
      "1000/1000 [==============================] - 1s 551us/step - loss: 0.9733 - accuracy: 0.6980 - val_loss: 2.1226 - val_accuracy: 0.3158\n",
      "Epoch 154/200\n",
      "1000/1000 [==============================] - 1s 570us/step - loss: 0.9722 - accuracy: 0.7090 - val_loss: 2.1430 - val_accuracy: 0.3212\n",
      "Epoch 155/200\n",
      "1000/1000 [==============================] - 1s 600us/step - loss: 0.9662 - accuracy: 0.7010 - val_loss: 2.1328 - val_accuracy: 0.3125\n",
      "Epoch 156/200\n",
      "1000/1000 [==============================] - 1s 570us/step - loss: 0.9627 - accuracy: 0.7160 - val_loss: 2.1490 - val_accuracy: 0.3185\n",
      "Epoch 157/200\n",
      "1000/1000 [==============================] - 1s 600us/step - loss: 0.9513 - accuracy: 0.7190 - val_loss: 2.1422 - val_accuracy: 0.3150\n",
      "Epoch 158/200\n",
      "1000/1000 [==============================] - 1s 570us/step - loss: 0.9534 - accuracy: 0.7170 - val_loss: 2.1752 - val_accuracy: 0.3118\n",
      "Epoch 159/200\n",
      "1000/1000 [==============================] - 1s 570us/step - loss: 0.9522 - accuracy: 0.7090 - val_loss: 2.1746 - val_accuracy: 0.3165\n",
      "Epoch 160/200\n",
      "1000/1000 [==============================] - 1s 573us/step - loss: 0.9693 - accuracy: 0.7120 - val_loss: 2.1595 - val_accuracy: 0.3172\n",
      "Epoch 161/200\n",
      "1000/1000 [==============================] - 1s 550us/step - loss: 0.9315 - accuracy: 0.7150 - val_loss: 2.1504 - val_accuracy: 0.3098\n",
      "Epoch 162/200\n",
      "1000/1000 [==============================] - 1s 604us/step - loss: 0.9122 - accuracy: 0.7340 - val_loss: 2.1611 - val_accuracy: 0.3249\n",
      "Epoch 163/200\n",
      "1000/1000 [==============================] - 1s 590us/step - loss: 0.9106 - accuracy: 0.7320 - val_loss: 2.1607 - val_accuracy: 0.3169\n",
      "Epoch 164/200\n",
      "1000/1000 [==============================] - 1s 552us/step - loss: 0.9002 - accuracy: 0.7320 - val_loss: 2.1736 - val_accuracy: 0.3176\n",
      "Epoch 165/200\n",
      "1000/1000 [==============================] - 1s 589us/step - loss: 0.8916 - accuracy: 0.7350 - val_loss: 2.1669 - val_accuracy: 0.3196\n",
      "Epoch 166/200\n",
      "1000/1000 [==============================] - 1s 620us/step - loss: 0.8950 - accuracy: 0.7430 - val_loss: 2.1774 - val_accuracy: 0.3155\n",
      "Epoch 167/200\n",
      "1000/1000 [==============================] - 1s 550us/step - loss: 0.8786 - accuracy: 0.7460 - val_loss: 2.1731 - val_accuracy: 0.3192\n",
      "Epoch 168/200\n",
      "1000/1000 [==============================] - 1s 570us/step - loss: 0.8662 - accuracy: 0.7530 - val_loss: 2.1676 - val_accuracy: 0.3145\n",
      "Epoch 169/200\n",
      "1000/1000 [==============================] - 1s 655us/step - loss: 0.8744 - accuracy: 0.7540 - val_loss: 2.2337 - val_accuracy: 0.3134\n",
      "Epoch 170/200\n",
      "1000/1000 [==============================] - 1s 645us/step - loss: 0.8820 - accuracy: 0.7300 - val_loss: 2.2049 - val_accuracy: 0.3136\n",
      "Epoch 171/200\n",
      "1000/1000 [==============================] - 1s 637us/step - loss: 0.9035 - accuracy: 0.7250 - val_loss: 2.2948 - val_accuracy: 0.3092\n",
      "Epoch 172/200\n",
      "1000/1000 [==============================] - 1s 605us/step - loss: 0.9248 - accuracy: 0.7070 - val_loss: 2.2837 - val_accuracy: 0.3033\n",
      "Epoch 173/200\n",
      "1000/1000 [==============================] - 1s 590us/step - loss: 0.9635 - accuracy: 0.7010 - val_loss: 2.2227 - val_accuracy: 0.3185\n",
      "Epoch 174/200\n",
      "1000/1000 [==============================] - 1s 580us/step - loss: 0.8745 - accuracy: 0.7340 - val_loss: 2.2118 - val_accuracy: 0.3223\n",
      "Epoch 175/200\n",
      "1000/1000 [==============================] - 1s 540us/step - loss: 0.8621 - accuracy: 0.7470 - val_loss: 2.2357 - val_accuracy: 0.3061\n",
      "Epoch 176/200\n",
      "1000/1000 [==============================] - 1s 560us/step - loss: 0.8822 - accuracy: 0.7260 - val_loss: 2.2528 - val_accuracy: 0.3159\n",
      "Epoch 177/200\n",
      "1000/1000 [==============================] - 1s 607us/step - loss: 0.8551 - accuracy: 0.7460 - val_loss: 2.2231 - val_accuracy: 0.3227\n",
      "Epoch 178/200\n",
      "1000/1000 [==============================] - 1s 583us/step - loss: 0.8497 - accuracy: 0.7580 - val_loss: 2.2235 - val_accuracy: 0.3100\n",
      "Epoch 179/200\n",
      "1000/1000 [==============================] - 1s 590us/step - loss: 0.8262 - accuracy: 0.7630 - val_loss: 2.2526 - val_accuracy: 0.3131\n",
      "Epoch 180/200\n",
      "1000/1000 [==============================] - 1s 584us/step - loss: 0.8229 - accuracy: 0.7630 - val_loss: 2.2184 - val_accuracy: 0.3238\n",
      "Epoch 181/200\n",
      "1000/1000 [==============================] - 1s 570us/step - loss: 0.8344 - accuracy: 0.7670 - val_loss: 2.2163 - val_accuracy: 0.3147\n",
      "Epoch 182/200\n",
      "1000/1000 [==============================] - 1s 560us/step - loss: 0.7913 - accuracy: 0.7710 - val_loss: 2.2483 - val_accuracy: 0.3139\n",
      "Epoch 183/200\n",
      "1000/1000 [==============================] - 1s 630us/step - loss: 0.7952 - accuracy: 0.7790 - val_loss: 2.2249 - val_accuracy: 0.3167\n",
      "Epoch 184/200\n",
      "1000/1000 [==============================] - 1s 640us/step - loss: 0.8093 - accuracy: 0.7740 - val_loss: 2.2530 - val_accuracy: 0.3157\n",
      "Epoch 185/200\n",
      "1000/1000 [==============================] - 1s 560us/step - loss: 0.7841 - accuracy: 0.7690 - val_loss: 2.2608 - val_accuracy: 0.3062\n",
      "Epoch 186/200\n",
      "1000/1000 [==============================] - 1s 605us/step - loss: 0.7836 - accuracy: 0.7810 - val_loss: 2.2322 - val_accuracy: 0.3205\n",
      "Epoch 187/200\n",
      "1000/1000 [==============================] - 1s 639us/step - loss: 0.7629 - accuracy: 0.7930 - val_loss: 2.2520 - val_accuracy: 0.3205\n",
      "Epoch 188/200\n",
      "1000/1000 [==============================] - 1s 610us/step - loss: 0.7670 - accuracy: 0.7800 - val_loss: 2.2692 - val_accuracy: 0.3070\n",
      "Epoch 189/200\n",
      "1000/1000 [==============================] - 1s 555us/step - loss: 0.7752 - accuracy: 0.7880 - val_loss: 2.2783 - val_accuracy: 0.3154\n",
      "Epoch 190/200\n",
      "1000/1000 [==============================] - 1s 600us/step - loss: 0.7567 - accuracy: 0.7860 - val_loss: 2.2466 - val_accuracy: 0.3198\n",
      "Epoch 191/200\n",
      "1000/1000 [==============================] - 1s 606us/step - loss: 0.7540 - accuracy: 0.7890 - val_loss: 2.2579 - val_accuracy: 0.3131\n",
      "Epoch 192/200\n",
      "1000/1000 [==============================] - 1s 645us/step - loss: 0.7325 - accuracy: 0.8050 - val_loss: 2.2773 - val_accuracy: 0.3125\n",
      "Epoch 193/200\n",
      "1000/1000 [==============================] - 1s 544us/step - loss: 0.7365 - accuracy: 0.7960 - val_loss: 2.2624 - val_accuracy: 0.3175\n",
      "Epoch 194/200\n",
      "1000/1000 [==============================] - 1s 552us/step - loss: 0.7408 - accuracy: 0.7980 - val_loss: 2.2871 - val_accuracy: 0.3155\n",
      "Epoch 195/200\n",
      "1000/1000 [==============================] - 1s 554us/step - loss: 0.7250 - accuracy: 0.7930 - val_loss: 2.2887 - val_accuracy: 0.3072\n",
      "Epoch 196/200\n",
      "1000/1000 [==============================] - 1s 600us/step - loss: 0.7296 - accuracy: 0.8070 - val_loss: 2.2775 - val_accuracy: 0.3177\n",
      "Epoch 197/200\n",
      "1000/1000 [==============================] - 1s 560us/step - loss: 0.7106 - accuracy: 0.8040 - val_loss: 2.2767 - val_accuracy: 0.3206\n",
      "Epoch 198/200\n",
      "1000/1000 [==============================] - 1s 520us/step - loss: 0.7054 - accuracy: 0.8120 - val_loss: 2.3069 - val_accuracy: 0.3084\n",
      "Epoch 199/200\n",
      "1000/1000 [==============================] - 1s 607us/step - loss: 0.7099 - accuracy: 0.8150 - val_loss: 2.3049 - val_accuracy: 0.3159\n",
      "Epoch 200/200\n",
      "1000/1000 [==============================] - 1s 560us/step - loss: 0.6985 - accuracy: 0.8060 - val_loss: 2.2901 - val_accuracy: 0.3158\n",
      "Wall time: 3min 2s\n"
     ]
    },
    {
     "data": {
      "text/plain": [
       "<keras.callbacks.callbacks.History at 0x1a8d9869128>"
      ]
     },
     "execution_count": 26,
     "metadata": {},
     "output_type": "execute_result"
    }
   ],
   "source": [
    "%%time\n",
    "model_1.fit(x_train_s,y_train_s ,batch_size=1000, epochs=200,validation_data=(x_val,y_val),\n",
    "            callbacks=[get_tensorboard(model_1)])"
   ]
  },
  {
   "cell_type": "code",
   "execution_count": 32,
   "metadata": {},
   "outputs": [
    {
     "name": "stdout",
     "output_type": "stream",
     "text": [
      "Cannot create a file when that file already exists\n",
      "Train on 1000 samples, validate on 10000 samples\n",
      "Epoch 1/150\n",
      "1000/1000 [==============================] - 1s 1ms/step - loss: 2.3668 - accuracy: 0.0950 - val_loss: 2.3835 - val_accuracy: 0.1037\n",
      "Epoch 2/150\n"
     ]
    },
    {
     "name": "stderr",
     "output_type": "stream",
     "text": [
      "C:\\ProgramData\\Anaconda3\\lib\\site-packages\\keras\\callbacks\\callbacks.py:95: RuntimeWarning: Method (on_train_batch_end) is slow compared to the batch update (0.115909). Check your callbacks.\n",
      "  % (hook_name, delta_t_median), RuntimeWarning)\n"
     ]
    },
    {
     "name": "stdout",
     "output_type": "stream",
     "text": [
      "1000/1000 [==============================] - 1s 501us/step - loss: 2.3994 - accuracy: 0.1120 - val_loss: 2.3979 - val_accuracy: 0.1099\n",
      "Epoch 3/150\n",
      "1000/1000 [==============================] - 0s 401us/step - loss: 2.4112 - accuracy: 0.1050 - val_loss: 2.3330 - val_accuracy: 0.1170\n",
      "Epoch 4/150\n",
      "1000/1000 [==============================] - 0s 379us/step - loss: 2.3357 - accuracy: 0.1300 - val_loss: 2.3252 - val_accuracy: 0.1017\n",
      "Epoch 5/150\n",
      "1000/1000 [==============================] - 0s 391us/step - loss: 2.3181 - accuracy: 0.1180 - val_loss: 2.3335 - val_accuracy: 0.1001\n",
      "Epoch 6/150\n",
      "1000/1000 [==============================] - 0s 370us/step - loss: 2.3167 - accuracy: 0.1180 - val_loss: 2.3068 - val_accuracy: 0.1005\n",
      "Epoch 7/150\n",
      "1000/1000 [==============================] - 0s 392us/step - loss: 2.2919 - accuracy: 0.1200 - val_loss: 2.2822 - val_accuracy: 0.1003\n",
      "Epoch 8/150\n",
      "1000/1000 [==============================] - 0s 401us/step - loss: 2.2756 - accuracy: 0.1190 - val_loss: 2.2771 - val_accuracy: 0.1116\n",
      "Epoch 9/150\n",
      "1000/1000 [==============================] - 0s 401us/step - loss: 2.2782 - accuracy: 0.1180 - val_loss: 2.2768 - val_accuracy: 0.1251\n",
      "Epoch 10/150\n",
      "1000/1000 [==============================] - 0s 436us/step - loss: 2.2737 - accuracy: 0.1160 - val_loss: 2.2637 - val_accuracy: 0.1178\n",
      "Epoch 11/150\n",
      "1000/1000 [==============================] - 1s 722us/step - loss: 2.2571 - accuracy: 0.1310 - val_loss: 2.2643 - val_accuracy: 0.1117\n",
      "Epoch 12/150\n",
      "1000/1000 [==============================] - 1s 547us/step - loss: 2.2509 - accuracy: 0.1290 - val_loss: 2.2675 - val_accuracy: 0.1025\n",
      "Epoch 13/150\n",
      "1000/1000 [==============================] - 0s 496us/step - loss: 2.2474 - accuracy: 0.1260 - val_loss: 2.2559 - val_accuracy: 0.0983\n",
      "Epoch 14/150\n",
      "1000/1000 [==============================] - 0s 450us/step - loss: 2.2401 - accuracy: 0.1120 - val_loss: 2.2447 - val_accuracy: 0.1019\n",
      "Epoch 15/150\n",
      "1000/1000 [==============================] - 0s 440us/step - loss: 2.2296 - accuracy: 0.1220 - val_loss: 2.2384 - val_accuracy: 0.1171\n",
      "Epoch 16/150\n",
      "1000/1000 [==============================] - 0s 400us/step - loss: 2.2271 - accuracy: 0.1160 - val_loss: 2.2336 - val_accuracy: 0.1194\n",
      "Epoch 17/150\n",
      "1000/1000 [==============================] - 0s 405us/step - loss: 2.2219 - accuracy: 0.1320 - val_loss: 2.2292 - val_accuracy: 0.1208\n",
      "Epoch 18/150\n",
      "1000/1000 [==============================] - 0s 438us/step - loss: 2.2095 - accuracy: 0.1330 - val_loss: 2.2239 - val_accuracy: 0.1223\n",
      "Epoch 19/150\n",
      "1000/1000 [==============================] - 0s 471us/step - loss: 2.2000 - accuracy: 0.1430 - val_loss: 2.2175 - val_accuracy: 0.1326\n",
      "Epoch 20/150\n",
      "1000/1000 [==============================] - 0s 500us/step - loss: 2.1966 - accuracy: 0.1530 - val_loss: 2.2074 - val_accuracy: 0.1406\n",
      "Epoch 21/150\n",
      "1000/1000 [==============================] - 0s 404us/step - loss: 2.1818 - accuracy: 0.1630 - val_loss: 2.1992 - val_accuracy: 0.1432\n",
      "Epoch 22/150\n",
      "1000/1000 [==============================] - 0s 396us/step - loss: 2.1815 - accuracy: 0.1570 - val_loss: 2.1937 - val_accuracy: 0.1465\n",
      "Epoch 23/150\n",
      "1000/1000 [==============================] - 0s 406us/step - loss: 2.1629 - accuracy: 0.1630 - val_loss: 2.1832 - val_accuracy: 0.1503\n",
      "Epoch 24/150\n",
      "1000/1000 [==============================] - 0s 400us/step - loss: 2.1553 - accuracy: 0.1680 - val_loss: 2.1760 - val_accuracy: 0.1527\n",
      "Epoch 25/150\n",
      "1000/1000 [==============================] - 0s 420us/step - loss: 2.1489 - accuracy: 0.1760 - val_loss: 2.1727 - val_accuracy: 0.1495\n",
      "Epoch 26/150\n",
      "1000/1000 [==============================] - 0s 390us/step - loss: 2.1433 - accuracy: 0.1710 - val_loss: 2.1645 - val_accuracy: 0.1618\n",
      "Epoch 27/150\n",
      "1000/1000 [==============================] - 0s 430us/step - loss: 2.1261 - accuracy: 0.1790 - val_loss: 2.1545 - val_accuracy: 0.1706\n",
      "Epoch 28/150\n",
      "1000/1000 [==============================] - 0s 450us/step - loss: 2.1118 - accuracy: 0.2070 - val_loss: 2.1492 - val_accuracy: 0.1774\n",
      "Epoch 29/150\n",
      "1000/1000 [==============================] - 0s 420us/step - loss: 2.1111 - accuracy: 0.1960 - val_loss: 2.1419 - val_accuracy: 0.1888\n",
      "Epoch 30/150\n",
      "1000/1000 [==============================] - 0s 402us/step - loss: 2.0925 - accuracy: 0.2110 - val_loss: 2.1371 - val_accuracy: 0.1959\n",
      "Epoch 31/150\n",
      "1000/1000 [==============================] - 0s 410us/step - loss: 2.0789 - accuracy: 0.2270 - val_loss: 2.1327 - val_accuracy: 0.2024\n",
      "Epoch 32/150\n",
      "1000/1000 [==============================] - 0s 405us/step - loss: 2.0749 - accuracy: 0.2340 - val_loss: 2.1249 - val_accuracy: 0.2056\n",
      "Epoch 33/150\n",
      "1000/1000 [==============================] - 0s 380us/step - loss: 2.0591 - accuracy: 0.2610 - val_loss: 2.1155 - val_accuracy: 0.2049\n",
      "Epoch 34/150\n",
      "1000/1000 [==============================] - 0s 420us/step - loss: 2.0502 - accuracy: 0.2440 - val_loss: 2.1120 - val_accuracy: 0.2042\n",
      "Epoch 35/150\n",
      "1000/1000 [==============================] - 0s 410us/step - loss: 2.0344 - accuracy: 0.2550 - val_loss: 2.1068 - val_accuracy: 0.2066\n",
      "Epoch 36/150\n",
      "1000/1000 [==============================] - 0s 400us/step - loss: 2.0302 - accuracy: 0.2470 - val_loss: 2.1017 - val_accuracy: 0.2132\n",
      "Epoch 37/150\n",
      "1000/1000 [==============================] - 0s 403us/step - loss: 2.0130 - accuracy: 0.2670 - val_loss: 2.0936 - val_accuracy: 0.2247\n",
      "Epoch 38/150\n",
      "1000/1000 [==============================] - 0s 470us/step - loss: 2.0218 - accuracy: 0.2890 - val_loss: 2.0855 - val_accuracy: 0.2416\n",
      "Epoch 39/150\n",
      "1000/1000 [==============================] - 0s 432us/step - loss: 2.0004 - accuracy: 0.3020 - val_loss: 2.0846 - val_accuracy: 0.2453\n",
      "Epoch 40/150\n",
      "1000/1000 [==============================] - 0s 386us/step - loss: 1.9922 - accuracy: 0.3130 - val_loss: 2.0841 - val_accuracy: 0.2445\n",
      "Epoch 41/150\n",
      "1000/1000 [==============================] - 0s 400us/step - loss: 1.9775 - accuracy: 0.2940 - val_loss: 2.0742 - val_accuracy: 0.2479\n",
      "Epoch 42/150\n",
      "1000/1000 [==============================] - 0s 410us/step - loss: 1.9732 - accuracy: 0.3100 - val_loss: 2.0729 - val_accuracy: 0.2481\n",
      "Epoch 43/150\n",
      "1000/1000 [==============================] - 0s 400us/step - loss: 1.9555 - accuracy: 0.3260 - val_loss: 2.0730 - val_accuracy: 0.2496\n",
      "Epoch 44/150\n",
      "1000/1000 [==============================] - 0s 420us/step - loss: 1.9504 - accuracy: 0.3080 - val_loss: 2.0641 - val_accuracy: 0.2568\n",
      "Epoch 45/150\n",
      "1000/1000 [==============================] - 0s 390us/step - loss: 1.9357 - accuracy: 0.3260 - val_loss: 2.0631 - val_accuracy: 0.2576\n",
      "Epoch 46/150\n",
      "1000/1000 [==============================] - 0s 385us/step - loss: 1.9344 - accuracy: 0.3420 - val_loss: 2.0531 - val_accuracy: 0.2641\n",
      "Epoch 47/150\n",
      "1000/1000 [==============================] - 0s 390us/step - loss: 1.9201 - accuracy: 0.3450 - val_loss: 2.0510 - val_accuracy: 0.2655\n",
      "Epoch 48/150\n",
      "1000/1000 [==============================] - 0s 390us/step - loss: 1.9118 - accuracy: 0.3390 - val_loss: 2.0586 - val_accuracy: 0.2656\n",
      "Epoch 49/150\n",
      "1000/1000 [==============================] - 0s 410us/step - loss: 1.9048 - accuracy: 0.3460 - val_loss: 2.0465 - val_accuracy: 0.2690\n",
      "Epoch 50/150\n",
      "1000/1000 [==============================] - 0s 430us/step - loss: 1.9035 - accuracy: 0.3410 - val_loss: 2.0359 - val_accuracy: 0.2732\n",
      "Epoch 51/150\n",
      "1000/1000 [==============================] - 0s 460us/step - loss: 1.8839 - accuracy: 0.3630 - val_loss: 2.0449 - val_accuracy: 0.2688\n",
      "Epoch 52/150\n",
      "1000/1000 [==============================] - 0s 410us/step - loss: 1.8765 - accuracy: 0.3530 - val_loss: 2.0353 - val_accuracy: 0.2717\n",
      "Epoch 53/150\n",
      "1000/1000 [==============================] - 0s 389us/step - loss: 1.8640 - accuracy: 0.3580 - val_loss: 2.0376 - val_accuracy: 0.2708\n",
      "Epoch 54/150\n",
      "1000/1000 [==============================] - 0s 409us/step - loss: 1.8711 - accuracy: 0.3490 - val_loss: 2.0266 - val_accuracy: 0.2783\n",
      "Epoch 55/150\n",
      "1000/1000 [==============================] - 0s 389us/step - loss: 1.8474 - accuracy: 0.3680 - val_loss: 2.0270 - val_accuracy: 0.2804\n",
      "Epoch 56/150\n",
      "1000/1000 [==============================] - 0s 412us/step - loss: 1.8578 - accuracy: 0.3610 - val_loss: 2.0197 - val_accuracy: 0.2780\n",
      "Epoch 57/150\n",
      "1000/1000 [==============================] - 0s 380us/step - loss: 1.8267 - accuracy: 0.3680 - val_loss: 2.0318 - val_accuracy: 0.2748\n",
      "Epoch 58/150\n",
      "1000/1000 [==============================] - 0s 388us/step - loss: 1.8216 - accuracy: 0.3700 - val_loss: 2.0151 - val_accuracy: 0.2847\n",
      "Epoch 59/150\n",
      "1000/1000 [==============================] - 0s 410us/step - loss: 1.8010 - accuracy: 0.3900 - val_loss: 2.0109 - val_accuracy: 0.2864\n",
      "Epoch 60/150\n",
      "1000/1000 [==============================] - 0s 390us/step - loss: 1.8072 - accuracy: 0.3770 - val_loss: 2.0114 - val_accuracy: 0.2840\n",
      "Epoch 61/150\n",
      "1000/1000 [==============================] - 0s 395us/step - loss: 1.7948 - accuracy: 0.3880 - val_loss: 2.0135 - val_accuracy: 0.2809\n",
      "Epoch 62/150\n",
      "1000/1000 [==============================] - 0s 430us/step - loss: 1.7847 - accuracy: 0.4050 - val_loss: 2.0032 - val_accuracy: 0.2863\n",
      "Epoch 63/150\n",
      "1000/1000 [==============================] - 0s 430us/step - loss: 1.7857 - accuracy: 0.3830 - val_loss: 2.0070 - val_accuracy: 0.2875\n",
      "Epoch 64/150\n",
      "1000/1000 [==============================] - 0s 450us/step - loss: 1.7736 - accuracy: 0.3910 - val_loss: 2.0112 - val_accuracy: 0.2853\n",
      "Epoch 65/150\n",
      "1000/1000 [==============================] - 0s 450us/step - loss: 1.7529 - accuracy: 0.3880 - val_loss: 1.9940 - val_accuracy: 0.2932\n",
      "Epoch 66/150\n",
      "1000/1000 [==============================] - 0s 391us/step - loss: 1.7492 - accuracy: 0.4180 - val_loss: 2.0033 - val_accuracy: 0.2903\n",
      "Epoch 67/150\n",
      "1000/1000 [==============================] - 0s 450us/step - loss: 1.7506 - accuracy: 0.4100 - val_loss: 2.0183 - val_accuracy: 0.2740\n",
      "Epoch 68/150\n",
      "1000/1000 [==============================] - 0s 442us/step - loss: 1.7577 - accuracy: 0.3880 - val_loss: 1.9936 - val_accuracy: 0.2919\n",
      "Epoch 69/150\n",
      "1000/1000 [==============================] - 0s 389us/step - loss: 1.7402 - accuracy: 0.4030 - val_loss: 1.9900 - val_accuracy: 0.2989\n",
      "Epoch 70/150\n",
      "1000/1000 [==============================] - 0s 405us/step - loss: 1.7369 - accuracy: 0.4120 - val_loss: 1.9885 - val_accuracy: 0.2930\n",
      "Epoch 71/150\n",
      "1000/1000 [==============================] - 0s 400us/step - loss: 1.7189 - accuracy: 0.4200 - val_loss: 2.0111 - val_accuracy: 0.2806\n",
      "Epoch 72/150\n",
      "1000/1000 [==============================] - 0s 423us/step - loss: 1.7219 - accuracy: 0.4040 - val_loss: 1.9889 - val_accuracy: 0.2963\n",
      "Epoch 73/150\n",
      "1000/1000 [==============================] - 0s 429us/step - loss: 1.6852 - accuracy: 0.4240 - val_loss: 1.9773 - val_accuracy: 0.3048\n",
      "Epoch 74/150\n",
      "1000/1000 [==============================] - 0s 410us/step - loss: 1.6881 - accuracy: 0.4230 - val_loss: 1.9806 - val_accuracy: 0.2927\n",
      "Epoch 75/150\n",
      "1000/1000 [==============================] - 0s 444us/step - loss: 1.6815 - accuracy: 0.4270 - val_loss: 1.9975 - val_accuracy: 0.2908\n",
      "Epoch 76/150\n",
      "1000/1000 [==============================] - 0s 427us/step - loss: 1.6727 - accuracy: 0.4340 - val_loss: 1.9999 - val_accuracy: 0.2934\n",
      "Epoch 77/150\n",
      "1000/1000 [==============================] - 0s 410us/step - loss: 1.6831 - accuracy: 0.4240 - val_loss: 1.9767 - val_accuracy: 0.2988\n",
      "Epoch 78/150\n",
      "1000/1000 [==============================] - 0s 395us/step - loss: 1.6557 - accuracy: 0.4420 - val_loss: 1.9767 - val_accuracy: 0.2975\n",
      "Epoch 79/150\n",
      "1000/1000 [==============================] - 0s 420us/step - loss: 1.6498 - accuracy: 0.4430 - val_loss: 1.9958 - val_accuracy: 0.2914\n",
      "Epoch 80/150\n",
      "1000/1000 [==============================] - 0s 394us/step - loss: 1.6472 - accuracy: 0.4290 - val_loss: 1.9936 - val_accuracy: 0.2901\n",
      "Epoch 81/150\n",
      "1000/1000 [==============================] - 0s 394us/step - loss: 1.6359 - accuracy: 0.4380 - val_loss: 1.9815 - val_accuracy: 0.2925\n",
      "Epoch 82/150\n",
      "1000/1000 [==============================] - 0s 430us/step - loss: 1.6373 - accuracy: 0.4390 - val_loss: 1.9766 - val_accuracy: 0.2991\n",
      "Epoch 83/150\n",
      "1000/1000 [==============================] - 0s 460us/step - loss: 1.6182 - accuracy: 0.4410 - val_loss: 1.9911 - val_accuracy: 0.2970\n",
      "Epoch 84/150\n",
      "1000/1000 [==============================] - 0s 377us/step - loss: 1.6153 - accuracy: 0.4520 - val_loss: 1.9857 - val_accuracy: 0.2966\n",
      "Epoch 85/150\n",
      "1000/1000 [==============================] - 0s 402us/step - loss: 1.6005 - accuracy: 0.4550 - val_loss: 1.9743 - val_accuracy: 0.3016\n",
      "Epoch 86/150\n",
      "1000/1000 [==============================] - 0s 441us/step - loss: 1.5993 - accuracy: 0.4660 - val_loss: 1.9772 - val_accuracy: 0.3033\n",
      "Epoch 87/150\n",
      "1000/1000 [==============================] - 0s 428us/step - loss: 1.6019 - accuracy: 0.4560 - val_loss: 1.9931 - val_accuracy: 0.2960\n",
      "Epoch 88/150\n",
      "1000/1000 [==============================] - 0s 437us/step - loss: 1.5886 - accuracy: 0.4440 - val_loss: 1.9931 - val_accuracy: 0.2942\n",
      "Epoch 89/150\n",
      "1000/1000 [==============================] - 0s 420us/step - loss: 1.5776 - accuracy: 0.4620 - val_loss: 1.9829 - val_accuracy: 0.3026\n",
      "Epoch 90/150\n",
      "1000/1000 [==============================] - 0s 405us/step - loss: 1.5827 - accuracy: 0.4490 - val_loss: 1.9771 - val_accuracy: 0.3008\n",
      "Epoch 91/150\n",
      "1000/1000 [==============================] - 0s 434us/step - loss: 1.5679 - accuracy: 0.4680 - val_loss: 1.9863 - val_accuracy: 0.2991\n",
      "Epoch 92/150\n",
      "1000/1000 [==============================] - 0s 427us/step - loss: 1.5739 - accuracy: 0.4470 - val_loss: 1.9875 - val_accuracy: 0.3050\n",
      "Epoch 93/150\n",
      "1000/1000 [==============================] - 0s 444us/step - loss: 1.5605 - accuracy: 0.4780 - val_loss: 1.9773 - val_accuracy: 0.3031\n",
      "Epoch 94/150\n",
      "1000/1000 [==============================] - 0s 451us/step - loss: 1.5415 - accuracy: 0.4820 - val_loss: 1.9882 - val_accuracy: 0.3015\n",
      "Epoch 95/150\n",
      "1000/1000 [==============================] - 0s 410us/step - loss: 1.5498 - accuracy: 0.4690 - val_loss: 1.9873 - val_accuracy: 0.3045\n",
      "Epoch 96/150\n",
      "1000/1000 [==============================] - 0s 470us/step - loss: 1.5408 - accuracy: 0.4610 - val_loss: 1.9877 - val_accuracy: 0.3027\n",
      "Epoch 97/150\n",
      "1000/1000 [==============================] - 0s 455us/step - loss: 1.5144 - accuracy: 0.4950 - val_loss: 1.9903 - val_accuracy: 0.3053\n",
      "Epoch 98/150\n",
      "1000/1000 [==============================] - 0s 435us/step - loss: 1.5067 - accuracy: 0.4950 - val_loss: 1.9847 - val_accuracy: 0.3045\n",
      "Epoch 99/150\n",
      "1000/1000 [==============================] - 0s 422us/step - loss: 1.5098 - accuracy: 0.4940 - val_loss: 1.9884 - val_accuracy: 0.3069\n",
      "Epoch 100/150\n",
      "1000/1000 [==============================] - 0s 411us/step - loss: 1.5218 - accuracy: 0.4740 - val_loss: 1.9872 - val_accuracy: 0.3050\n",
      "Epoch 101/150\n",
      "1000/1000 [==============================] - 0s 405us/step - loss: 1.4957 - accuracy: 0.5010 - val_loss: 1.9919 - val_accuracy: 0.3048\n",
      "Epoch 102/150\n",
      "1000/1000 [==============================] - 0s 406us/step - loss: 1.4837 - accuracy: 0.4950 - val_loss: 1.9932 - val_accuracy: 0.3068\n",
      "Epoch 103/150\n",
      "1000/1000 [==============================] - 0s 430us/step - loss: 1.4771 - accuracy: 0.4970 - val_loss: 1.9955 - val_accuracy: 0.2986\n",
      "Epoch 104/150\n",
      "1000/1000 [==============================] - 0s 426us/step - loss: 1.4913 - accuracy: 0.4780 - val_loss: 1.9855 - val_accuracy: 0.3060\n",
      "Epoch 105/150\n",
      "1000/1000 [==============================] - 0s 399us/step - loss: 1.4606 - accuracy: 0.5120 - val_loss: 1.9954 - val_accuracy: 0.3067\n",
      "Epoch 106/150\n",
      "1000/1000 [==============================] - 0s 400us/step - loss: 1.4693 - accuracy: 0.5000 - val_loss: 2.0117 - val_accuracy: 0.3011\n",
      "Epoch 107/150\n",
      "1000/1000 [==============================] - 0s 430us/step - loss: 1.4747 - accuracy: 0.5030 - val_loss: 1.9943 - val_accuracy: 0.3056\n",
      "Epoch 108/150\n",
      "1000/1000 [==============================] - 0s 400us/step - loss: 1.4679 - accuracy: 0.4940 - val_loss: 1.9872 - val_accuracy: 0.3108\n",
      "Epoch 109/150\n",
      "1000/1000 [==============================] - 0s 390us/step - loss: 1.4489 - accuracy: 0.5110 - val_loss: 1.9998 - val_accuracy: 0.3063\n",
      "Epoch 110/150\n",
      "1000/1000 [==============================] - 0s 400us/step - loss: 1.4458 - accuracy: 0.5040 - val_loss: 2.0180 - val_accuracy: 0.3078\n",
      "Epoch 111/150\n",
      "1000/1000 [==============================] - 0s 410us/step - loss: 1.4575 - accuracy: 0.5140 - val_loss: 2.0184 - val_accuracy: 0.3032\n",
      "Epoch 112/150\n",
      "1000/1000 [==============================] - 0s 399us/step - loss: 1.4305 - accuracy: 0.5050 - val_loss: 1.9901 - val_accuracy: 0.3129\n",
      "Epoch 113/150\n",
      "1000/1000 [==============================] - 0s 410us/step - loss: 1.4328 - accuracy: 0.5110 - val_loss: 1.9960 - val_accuracy: 0.3123\n",
      "Epoch 114/150\n",
      "1000/1000 [==============================] - 0s 400us/step - loss: 1.4192 - accuracy: 0.5190 - val_loss: 2.0318 - val_accuracy: 0.3049\n",
      "Epoch 115/150\n",
      "1000/1000 [==============================] - 0s 414us/step - loss: 1.4306 - accuracy: 0.4950 - val_loss: 2.0359 - val_accuracy: 0.3054\n",
      "Epoch 116/150\n",
      "1000/1000 [==============================] - 0s 390us/step - loss: 1.4233 - accuracy: 0.5230 - val_loss: 2.0476 - val_accuracy: 0.3025\n",
      "Epoch 117/150\n",
      "1000/1000 [==============================] - 0s 405us/step - loss: 1.4273 - accuracy: 0.5100 - val_loss: 2.0046 - val_accuracy: 0.3142\n",
      "Epoch 118/150\n",
      "1000/1000 [==============================] - 0s 420us/step - loss: 1.4070 - accuracy: 0.5340 - val_loss: 2.0337 - val_accuracy: 0.3081\n",
      "Epoch 119/150\n",
      "1000/1000 [==============================] - 0s 430us/step - loss: 1.4196 - accuracy: 0.5070 - val_loss: 2.0620 - val_accuracy: 0.3008\n",
      "Epoch 120/150\n",
      "1000/1000 [==============================] - 0s 400us/step - loss: 1.4411 - accuracy: 0.5010 - val_loss: 2.0158 - val_accuracy: 0.3118\n",
      "Epoch 121/150\n",
      "1000/1000 [==============================] - 0s 388us/step - loss: 1.3832 - accuracy: 0.5450 - val_loss: 2.0198 - val_accuracy: 0.3110\n",
      "Epoch 122/150\n",
      "1000/1000 [==============================] - 0s 391us/step - loss: 1.3742 - accuracy: 0.5370 - val_loss: 2.0630 - val_accuracy: 0.3072\n",
      "Epoch 123/150\n",
      "1000/1000 [==============================] - 0s 410us/step - loss: 1.4058 - accuracy: 0.5290 - val_loss: 2.0280 - val_accuracy: 0.3094\n",
      "Epoch 124/150\n",
      "1000/1000 [==============================] - 0s 410us/step - loss: 1.3825 - accuracy: 0.5410 - val_loss: 2.0238 - val_accuracy: 0.3115\n",
      "Epoch 125/150\n",
      "1000/1000 [==============================] - 0s 390us/step - loss: 1.3777 - accuracy: 0.5290 - val_loss: 2.0374 - val_accuracy: 0.3118\n",
      "Epoch 126/150\n",
      "1000/1000 [==============================] - 0s 400us/step - loss: 1.3849 - accuracy: 0.5360 - val_loss: 2.0470 - val_accuracy: 0.3048\n",
      "Epoch 127/150\n",
      "1000/1000 [==============================] - 0s 401us/step - loss: 1.3666 - accuracy: 0.5310 - val_loss: 2.0465 - val_accuracy: 0.3110\n",
      "Epoch 128/150\n",
      "1000/1000 [==============================] - 0s 450us/step - loss: 1.3659 - accuracy: 0.5180 - val_loss: 2.0353 - val_accuracy: 0.3136\n",
      "Epoch 129/150\n",
      "1000/1000 [==============================] - 0s 449us/step - loss: 1.3534 - accuracy: 0.5360 - val_loss: 2.0534 - val_accuracy: 0.3070\n",
      "Epoch 130/150\n",
      "1000/1000 [==============================] - 0s 380us/step - loss: 1.3601 - accuracy: 0.5330 - val_loss: 2.0320 - val_accuracy: 0.3133\n",
      "Epoch 131/150\n",
      "1000/1000 [==============================] - 0s 390us/step - loss: 1.3304 - accuracy: 0.5530 - val_loss: 2.0290 - val_accuracy: 0.3132\n",
      "Epoch 132/150\n",
      "1000/1000 [==============================] - 0s 400us/step - loss: 1.3451 - accuracy: 0.5470 - val_loss: 2.0502 - val_accuracy: 0.3130\n",
      "Epoch 133/150\n",
      "1000/1000 [==============================] - 0s 410us/step - loss: 1.3471 - accuracy: 0.5500 - val_loss: 2.0393 - val_accuracy: 0.3144\n",
      "Epoch 134/150\n",
      "1000/1000 [==============================] - 0s 399us/step - loss: 1.3194 - accuracy: 0.5500 - val_loss: 2.0543 - val_accuracy: 0.3123\n",
      "Epoch 135/150\n",
      "1000/1000 [==============================] - 0s 400us/step - loss: 1.3368 - accuracy: 0.5400 - val_loss: 2.0414 - val_accuracy: 0.3146\n",
      "Epoch 136/150\n",
      "1000/1000 [==============================] - 0s 390us/step - loss: 1.3124 - accuracy: 0.5480 - val_loss: 2.0530 - val_accuracy: 0.3144\n",
      "Epoch 137/150\n",
      "1000/1000 [==============================] - 0s 405us/step - loss: 1.3103 - accuracy: 0.5700 - val_loss: 2.0724 - val_accuracy: 0.3114\n",
      "Epoch 138/150\n",
      "1000/1000 [==============================] - 0s 378us/step - loss: 1.3222 - accuracy: 0.5440 - val_loss: 2.0433 - val_accuracy: 0.3164\n",
      "Epoch 139/150\n",
      "1000/1000 [==============================] - 0s 398us/step - loss: 1.3083 - accuracy: 0.5620 - val_loss: 2.0507 - val_accuracy: 0.3140\n",
      "Epoch 140/150\n",
      "1000/1000 [==============================] - 0s 400us/step - loss: 1.3160 - accuracy: 0.5660 - val_loss: 2.0367 - val_accuracy: 0.3137\n",
      "Epoch 141/150\n",
      "1000/1000 [==============================] - 0s 444us/step - loss: 1.2849 - accuracy: 0.5700 - val_loss: 2.0791 - val_accuracy: 0.3115\n",
      "Epoch 142/150\n",
      "1000/1000 [==============================] - 0s 411us/step - loss: 1.3071 - accuracy: 0.5550 - val_loss: 2.0584 - val_accuracy: 0.3166\n",
      "Epoch 143/150\n",
      "1000/1000 [==============================] - 0s 386us/step - loss: 1.2782 - accuracy: 0.5710 - val_loss: 2.0435 - val_accuracy: 0.3186\n",
      "Epoch 144/150\n",
      "1000/1000 [==============================] - 0s 420us/step - loss: 1.2878 - accuracy: 0.5560 - val_loss: 2.0538 - val_accuracy: 0.3141\n",
      "Epoch 145/150\n",
      "1000/1000 [==============================] - 0s 410us/step - loss: 1.2776 - accuracy: 0.5740 - val_loss: 2.0843 - val_accuracy: 0.3136\n",
      "Epoch 146/150\n",
      "1000/1000 [==============================] - 0s 400us/step - loss: 1.2840 - accuracy: 0.5630 - val_loss: 2.0715 - val_accuracy: 0.3149\n",
      "Epoch 147/150\n",
      "1000/1000 [==============================] - 0s 410us/step - loss: 1.2526 - accuracy: 0.5720 - val_loss: 2.0559 - val_accuracy: 0.3163\n",
      "Epoch 148/150\n",
      "1000/1000 [==============================] - 0s 400us/step - loss: 1.2725 - accuracy: 0.5700 - val_loss: 2.0489 - val_accuracy: 0.3199\n",
      "Epoch 149/150\n",
      "1000/1000 [==============================] - 0s 400us/step - loss: 1.2570 - accuracy: 0.5720 - val_loss: 2.0935 - val_accuracy: 0.3146\n",
      "Epoch 150/150\n",
      "1000/1000 [==============================] - 0s 390us/step - loss: 1.2531 - accuracy: 0.5860 - val_loss: 2.0743 - val_accuracy: 0.3130\n",
      "Wall time: 1min 21s\n"
     ]
    },
    {
     "data": {
      "text/plain": [
       "<keras.callbacks.callbacks.History at 0x1a8da89e128>"
      ]
     },
     "execution_count": 32,
     "metadata": {},
     "output_type": "execute_result"
    }
   ],
   "source": [
    "%%time\n",
    "model_2.fit(x_train_s,y_train_s ,batch_size=1000, epochs=150,validation_data=(x_val,y_val),\n",
    "            callbacks=[get_tensorboard(model_2)])"
   ]
  },
  {
   "cell_type": "markdown",
   "metadata": {},
   "source": [
    "# Train the model on Actual Train Data"
   ]
  },
  {
   "cell_type": "code",
   "execution_count": 40,
   "metadata": {},
   "outputs": [
    {
     "name": "stdout",
     "output_type": "stream",
     "text": [
      "Cannot create a file when that file already exists\n",
      "Train on 40000 samples, validate on 10000 samples\n",
      "Epoch 1/100\n",
      "40000/40000 [==============================] - 5s 124us/step - loss: 2.2783 - accuracy: 0.1147 - val_loss: 2.2387 - val_accuracy: 0.1148\n",
      "Epoch 2/100\n",
      "40000/40000 [==============================] - 2s 53us/step - loss: 2.1816 - accuracy: 0.1822 - val_loss: 2.1102 - val_accuracy: 0.2198\n",
      "Epoch 3/100\n",
      "40000/40000 [==============================] - 2s 56us/step - loss: 2.0533 - accuracy: 0.2391 - val_loss: 1.9881 - val_accuracy: 0.2895\n",
      "Epoch 4/100\n",
      "40000/40000 [==============================] - 2s 55us/step - loss: 1.9532 - accuracy: 0.2987 - val_loss: 1.9036 - val_accuracy: 0.3144\n",
      "Epoch 5/100\n",
      "40000/40000 [==============================] - 2s 59us/step - loss: 1.8686 - accuracy: 0.3331 - val_loss: 1.8363 - val_accuracy: 0.3468\n",
      "Epoch 6/100\n",
      "40000/40000 [==============================] - 2s 54us/step - loss: 1.8179 - accuracy: 0.3488 - val_loss: 1.7800 - val_accuracy: 0.3660\n",
      "Epoch 7/100\n",
      "40000/40000 [==============================] - 2s 55us/step - loss: 1.7618 - accuracy: 0.3725 - val_loss: 1.7421 - val_accuracy: 0.3772\n",
      "Epoch 8/100\n",
      "40000/40000 [==============================] - 2s 53us/step - loss: 1.7337 - accuracy: 0.3841 - val_loss: 1.7271 - val_accuracy: 0.3789\n",
      "Epoch 9/100\n",
      "40000/40000 [==============================] - 2s 62us/step - loss: 1.7063 - accuracy: 0.3934 - val_loss: 1.7016 - val_accuracy: 0.3964\n",
      "Epoch 10/100\n",
      "40000/40000 [==============================] - 3s 82us/step - loss: 1.6733 - accuracy: 0.4052 - val_loss: 1.6646 - val_accuracy: 0.4019\n",
      "Epoch 11/100\n",
      "40000/40000 [==============================] - 2s 57us/step - loss: 1.6456 - accuracy: 0.4169 - val_loss: 1.6778 - val_accuracy: 0.4008\n",
      "Epoch 12/100\n",
      "40000/40000 [==============================] - 2s 62us/step - loss: 1.6393 - accuracy: 0.4162 - val_loss: 1.6312 - val_accuracy: 0.4179\n",
      "Epoch 13/100\n",
      "40000/40000 [==============================] - 2s 56us/step - loss: 1.6180 - accuracy: 0.4278 - val_loss: 1.6330 - val_accuracy: 0.4206\n",
      "Epoch 14/100\n",
      "40000/40000 [==============================] - 2s 60us/step - loss: 1.6099 - accuracy: 0.4312 - val_loss: 1.6415 - val_accuracy: 0.4123\n",
      "Epoch 15/100\n",
      "40000/40000 [==============================] - 2s 58us/step - loss: 1.5864 - accuracy: 0.4410 - val_loss: 1.6041 - val_accuracy: 0.4276\n",
      "Epoch 16/100\n",
      "40000/40000 [==============================] - 3s 65us/step - loss: 1.5831 - accuracy: 0.4407 - val_loss: 1.5887 - val_accuracy: 0.4352\n",
      "Epoch 17/100\n",
      "40000/40000 [==============================] - 2s 57us/step - loss: 1.5552 - accuracy: 0.4520 - val_loss: 1.5768 - val_accuracy: 0.4445\n",
      "Epoch 18/100\n",
      "40000/40000 [==============================] - 2s 59us/step - loss: 1.5528 - accuracy: 0.4511 - val_loss: 1.5829 - val_accuracy: 0.4338\n",
      "Epoch 19/100\n",
      "40000/40000 [==============================] - 2s 58us/step - loss: 1.5412 - accuracy: 0.4546 - val_loss: 1.5764 - val_accuracy: 0.4351\n",
      "Epoch 20/100\n",
      "40000/40000 [==============================] - 2s 57us/step - loss: 1.5274 - accuracy: 0.4609 - val_loss: 1.5575 - val_accuracy: 0.4466\n",
      "Epoch 21/100\n",
      "40000/40000 [==============================] - 2s 60us/step - loss: 1.5139 - accuracy: 0.4660 - val_loss: 1.5519 - val_accuracy: 0.4465\n",
      "Epoch 22/100\n",
      "40000/40000 [==============================] - 2s 57us/step - loss: 1.5186 - accuracy: 0.4642 - val_loss: 1.5447 - val_accuracy: 0.4530\n",
      "Epoch 23/100\n",
      "40000/40000 [==============================] - 3s 63us/step - loss: 1.5088 - accuracy: 0.4663 - val_loss: 1.5322 - val_accuracy: 0.4567\n",
      "Epoch 24/100\n",
      "40000/40000 [==============================] - 2s 57us/step - loss: 1.4983 - accuracy: 0.4697 - val_loss: 1.5383 - val_accuracy: 0.4503\n",
      "Epoch 25/100\n",
      "40000/40000 [==============================] - 2s 61us/step - loss: 1.4828 - accuracy: 0.4744 - val_loss: 1.5277 - val_accuracy: 0.4584\n",
      "Epoch 26/100\n",
      "40000/40000 [==============================] - 2s 57us/step - loss: 1.4797 - accuracy: 0.4773 - val_loss: 1.5185 - val_accuracy: 0.4596\n",
      "Epoch 27/100\n",
      "40000/40000 [==============================] - 2s 58us/step - loss: 1.4686 - accuracy: 0.4805 - val_loss: 1.5390 - val_accuracy: 0.4498\n",
      "Epoch 28/100\n",
      "40000/40000 [==============================] - 2s 58us/step - loss: 1.4648 - accuracy: 0.4805 - val_loss: 1.5166 - val_accuracy: 0.4598\n",
      "Epoch 29/100\n",
      "40000/40000 [==============================] - 2s 60us/step - loss: 1.4466 - accuracy: 0.4894 - val_loss: 1.5055 - val_accuracy: 0.4637\n",
      "Epoch 30/100\n",
      "40000/40000 [==============================] - 3s 63us/step - loss: 1.4529 - accuracy: 0.4852 - val_loss: 1.5434 - val_accuracy: 0.4520\n",
      "Epoch 31/100\n",
      "40000/40000 [==============================] - 2s 59us/step - loss: 1.4500 - accuracy: 0.4877 - val_loss: 1.5046 - val_accuracy: 0.4642\n",
      "Epoch 32/100\n",
      "40000/40000 [==============================] - 2s 62us/step - loss: 1.4280 - accuracy: 0.4942 - val_loss: 1.4946 - val_accuracy: 0.4670\n",
      "Epoch 33/100\n",
      "40000/40000 [==============================] - 2s 57us/step - loss: 1.4250 - accuracy: 0.4963 - val_loss: 1.4998 - val_accuracy: 0.4697\n",
      "Epoch 34/100\n",
      "40000/40000 [==============================] - 2s 61us/step - loss: 1.4222 - accuracy: 0.4958 - val_loss: 1.5242 - val_accuracy: 0.4515\n",
      "Epoch 35/100\n",
      "40000/40000 [==============================] - 2s 58us/step - loss: 1.4176 - accuracy: 0.4982 - val_loss: 1.4978 - val_accuracy: 0.4645\n",
      "Epoch 36/100\n",
      "40000/40000 [==============================] - 3s 63us/step - loss: 1.4026 - accuracy: 0.5043 - val_loss: 1.4799 - val_accuracy: 0.4730\n",
      "Epoch 37/100\n",
      "40000/40000 [==============================] - 2s 58us/step - loss: 1.4037 - accuracy: 0.5006 - val_loss: 1.4829 - val_accuracy: 0.4723\n",
      "Epoch 38/100\n",
      "40000/40000 [==============================] - 2s 57us/step - loss: 1.4034 - accuracy: 0.5034 - val_loss: 1.4823 - val_accuracy: 0.4699\n",
      "Epoch 39/100\n",
      "40000/40000 [==============================] - 2s 61us/step - loss: 1.3897 - accuracy: 0.5063 - val_loss: 1.4874 - val_accuracy: 0.4732\n",
      "Epoch 40/100\n",
      "40000/40000 [==============================] - 2s 58us/step - loss: 1.3917 - accuracy: 0.5039 - val_loss: 1.4827 - val_accuracy: 0.4680\n",
      "Epoch 41/100\n",
      "40000/40000 [==============================] - 2s 60us/step - loss: 1.3994 - accuracy: 0.5018 - val_loss: 1.4850 - val_accuracy: 0.4738\n",
      "Epoch 42/100\n",
      "40000/40000 [==============================] - 2s 61us/step - loss: 1.3733 - accuracy: 0.5120 - val_loss: 1.4695 - val_accuracy: 0.4749\n",
      "Epoch 43/100\n",
      "40000/40000 [==============================] - 2s 60us/step - loss: 1.3754 - accuracy: 0.5115 - val_loss: 1.4749 - val_accuracy: 0.4743\n",
      "Epoch 44/100\n",
      "40000/40000 [==============================] - 2s 58us/step - loss: 1.3715 - accuracy: 0.5131 - val_loss: 1.4892 - val_accuracy: 0.4686\n",
      "Epoch 45/100\n",
      "40000/40000 [==============================] - 2s 58us/step - loss: 1.3619 - accuracy: 0.5157 - val_loss: 1.4873 - val_accuracy: 0.4722\n",
      "Epoch 46/100\n",
      "40000/40000 [==============================] - 2s 59us/step - loss: 1.3619 - accuracy: 0.5156 - val_loss: 1.4645 - val_accuracy: 0.4781\n",
      "Epoch 47/100\n",
      "40000/40000 [==============================] - 2s 58us/step - loss: 1.3482 - accuracy: 0.5205 - val_loss: 1.4551 - val_accuracy: 0.4828\n",
      "Epoch 48/100\n",
      "40000/40000 [==============================] - 2s 61us/step - loss: 1.3472 - accuracy: 0.5203 - val_loss: 1.4710 - val_accuracy: 0.4805\n",
      "Epoch 49/100\n",
      "40000/40000 [==============================] - 2s 61us/step - loss: 1.3402 - accuracy: 0.5236 - val_loss: 1.4715 - val_accuracy: 0.4753\n",
      "Epoch 50/100\n",
      "40000/40000 [==============================] - 2s 60us/step - loss: 1.3333 - accuracy: 0.5232 - val_loss: 1.4601 - val_accuracy: 0.4785\n",
      "Epoch 51/100\n",
      "40000/40000 [==============================] - 2s 57us/step - loss: 1.3332 - accuracy: 0.5243 - val_loss: 1.4793 - val_accuracy: 0.4763\n",
      "Epoch 52/100\n",
      "40000/40000 [==============================] - 2s 60us/step - loss: 1.3332 - accuracy: 0.5253 - val_loss: 1.4675 - val_accuracy: 0.4839\n",
      "Epoch 53/100\n",
      "40000/40000 [==============================] - 2s 58us/step - loss: 1.3235 - accuracy: 0.5292 - val_loss: 1.4769 - val_accuracy: 0.4765\n",
      "Epoch 54/100\n",
      "40000/40000 [==============================] - 2s 61us/step - loss: 1.3237 - accuracy: 0.5290 - val_loss: 1.4606 - val_accuracy: 0.4767\n",
      "Epoch 55/100\n",
      "40000/40000 [==============================] - 3s 63us/step - loss: 1.3100 - accuracy: 0.5325 - val_loss: 1.4418 - val_accuracy: 0.4874\n",
      "Epoch 56/100\n",
      "40000/40000 [==============================] - 2s 60us/step - loss: 1.3174 - accuracy: 0.5303 - val_loss: 1.4479 - val_accuracy: 0.4862\n",
      "Epoch 57/100\n",
      "40000/40000 [==============================] - 3s 64us/step - loss: 1.3012 - accuracy: 0.5356 - val_loss: 1.4576 - val_accuracy: 0.4846\n",
      "Epoch 58/100\n",
      "40000/40000 [==============================] - 2s 61us/step - loss: 1.3134 - accuracy: 0.5332 - val_loss: 1.4654 - val_accuracy: 0.4840\n",
      "Epoch 59/100\n",
      "40000/40000 [==============================] - 2s 60us/step - loss: 1.3089 - accuracy: 0.5322 - val_loss: 1.4675 - val_accuracy: 0.4783\n",
      "Epoch 60/100\n",
      "40000/40000 [==============================] - 2s 58us/step - loss: 1.2903 - accuracy: 0.5410 - val_loss: 1.4492 - val_accuracy: 0.4878\n",
      "Epoch 61/100\n",
      "40000/40000 [==============================] - 2s 60us/step - loss: 1.2968 - accuracy: 0.5372 - val_loss: 1.4346 - val_accuracy: 0.4922\n",
      "Epoch 62/100\n",
      "40000/40000 [==============================] - 2s 61us/step - loss: 1.2869 - accuracy: 0.5418 - val_loss: 1.4470 - val_accuracy: 0.4886\n",
      "Epoch 63/100\n",
      "40000/40000 [==============================] - 2s 62us/step - loss: 1.2793 - accuracy: 0.5448 - val_loss: 1.4522 - val_accuracy: 0.4843\n",
      "Epoch 64/100\n",
      "40000/40000 [==============================] - 2s 60us/step - loss: 1.2781 - accuracy: 0.5446 - val_loss: 1.4481 - val_accuracy: 0.4871\n",
      "Epoch 65/100\n",
      "40000/40000 [==============================] - 2s 61us/step - loss: 1.2802 - accuracy: 0.5422 - val_loss: 1.4546 - val_accuracy: 0.4831\n",
      "Epoch 66/100\n",
      "40000/40000 [==============================] - 2s 60us/step - loss: 1.2723 - accuracy: 0.5445 - val_loss: 1.4662 - val_accuracy: 0.4834\n",
      "Epoch 67/100\n",
      "40000/40000 [==============================] - 2s 60us/step - loss: 1.2761 - accuracy: 0.5416 - val_loss: 1.4500 - val_accuracy: 0.4828\n",
      "Epoch 68/100\n",
      "40000/40000 [==============================] - 2s 61us/step - loss: 1.2614 - accuracy: 0.5504 - val_loss: 1.4732 - val_accuracy: 0.4805\n",
      "Epoch 69/100\n",
      "40000/40000 [==============================] - 2s 61us/step - loss: 1.2723 - accuracy: 0.5452 - val_loss: 1.4527 - val_accuracy: 0.4832\n",
      "Epoch 70/100\n",
      "40000/40000 [==============================] - 2s 59us/step - loss: 1.2587 - accuracy: 0.5482 - val_loss: 1.4476 - val_accuracy: 0.4878\n",
      "Epoch 71/100\n",
      "40000/40000 [==============================] - 2s 60us/step - loss: 1.2639 - accuracy: 0.5495 - val_loss: 1.4573 - val_accuracy: 0.4863\n",
      "Epoch 72/100\n",
      "40000/40000 [==============================] - 2s 60us/step - loss: 1.2609 - accuracy: 0.5492 - val_loss: 1.4576 - val_accuracy: 0.4827\n",
      "Epoch 73/100\n",
      "40000/40000 [==============================] - 2s 58us/step - loss: 1.2550 - accuracy: 0.5520 - val_loss: 1.4487 - val_accuracy: 0.4881\n",
      "Epoch 74/100\n",
      "40000/40000 [==============================] - 3s 65us/step - loss: 1.2467 - accuracy: 0.5532 - val_loss: 1.4699 - val_accuracy: 0.4804\n",
      "Epoch 75/100\n",
      "40000/40000 [==============================] - 2s 60us/step - loss: 1.2455 - accuracy: 0.5551 - val_loss: 1.4577 - val_accuracy: 0.4849\n",
      "Epoch 76/100\n",
      "40000/40000 [==============================] - 2s 62us/step - loss: 1.2333 - accuracy: 0.5573 - val_loss: 1.4536 - val_accuracy: 0.4886\n",
      "Epoch 77/100\n",
      "40000/40000 [==============================] - 2s 60us/step - loss: 1.2424 - accuracy: 0.5547 - val_loss: 1.4657 - val_accuracy: 0.4845\n",
      "Epoch 78/100\n",
      "40000/40000 [==============================] - 3s 63us/step - loss: 1.2304 - accuracy: 0.5605 - val_loss: 1.4559 - val_accuracy: 0.4888\n",
      "Epoch 79/100\n",
      "40000/40000 [==============================] - 2s 60us/step - loss: 1.2291 - accuracy: 0.5612 - val_loss: 1.4498 - val_accuracy: 0.4877\n",
      "Epoch 80/100\n",
      "40000/40000 [==============================] - 3s 66us/step - loss: 1.2409 - accuracy: 0.5560 - val_loss: 1.4717 - val_accuracy: 0.4820\n",
      "Epoch 81/100\n",
      "40000/40000 [==============================] - 2s 60us/step - loss: 1.2241 - accuracy: 0.5639 - val_loss: 1.4490 - val_accuracy: 0.4868\n",
      "Epoch 82/100\n",
      "40000/40000 [==============================] - 3s 64us/step - loss: 1.2184 - accuracy: 0.5640 - val_loss: 1.4516 - val_accuracy: 0.4837\n",
      "Epoch 83/100\n",
      "40000/40000 [==============================] - 3s 64us/step - loss: 1.2243 - accuracy: 0.5647 - val_loss: 1.4655 - val_accuracy: 0.4863\n",
      "Epoch 84/100\n",
      "40000/40000 [==============================] - 3s 67us/step - loss: 1.2296 - accuracy: 0.5601 - val_loss: 1.4538 - val_accuracy: 0.4886\n",
      "Epoch 85/100\n",
      "40000/40000 [==============================] - 2s 62us/step - loss: 1.2115 - accuracy: 0.5672 - val_loss: 1.4568 - val_accuracy: 0.4872\n",
      "Epoch 86/100\n",
      "40000/40000 [==============================] - 3s 67us/step - loss: 1.2149 - accuracy: 0.5647 - val_loss: 1.4595 - val_accuracy: 0.4858\n",
      "Epoch 87/100\n",
      "40000/40000 [==============================] - 2s 62us/step - loss: 1.2266 - accuracy: 0.5610 - val_loss: 1.4643 - val_accuracy: 0.4884\n",
      "Epoch 88/100\n",
      "40000/40000 [==============================] - 3s 67us/step - loss: 1.2095 - accuracy: 0.5674 - val_loss: 1.4459 - val_accuracy: 0.4910\n",
      "Epoch 89/100\n",
      "40000/40000 [==============================] - 3s 63us/step - loss: 1.2088 - accuracy: 0.5681 - val_loss: 1.4685 - val_accuracy: 0.4828\n",
      "Epoch 90/100\n",
      "40000/40000 [==============================] - 3s 63us/step - loss: 1.1976 - accuracy: 0.5716 - val_loss: 1.4522 - val_accuracy: 0.4880\n",
      "Epoch 91/100\n",
      "40000/40000 [==============================] - 3s 63us/step - loss: 1.1972 - accuracy: 0.5721 - val_loss: 1.4586 - val_accuracy: 0.4879\n",
      "Epoch 92/100\n",
      "40000/40000 [==============================] - 3s 66us/step - loss: 1.1963 - accuracy: 0.5731 - val_loss: 1.4491 - val_accuracy: 0.4925\n",
      "Epoch 93/100\n",
      "40000/40000 [==============================] - 3s 65us/step - loss: 1.1901 - accuracy: 0.5739 - val_loss: 1.4827 - val_accuracy: 0.4845\n",
      "Epoch 94/100\n",
      "40000/40000 [==============================] - 3s 63us/step - loss: 1.1905 - accuracy: 0.5738 - val_loss: 1.4536 - val_accuracy: 0.4938\n",
      "Epoch 95/100\n",
      "40000/40000 [==============================] - 3s 64us/step - loss: 1.1879 - accuracy: 0.5733 - val_loss: 1.4570 - val_accuracy: 0.4889\n",
      "Epoch 96/100\n",
      "40000/40000 [==============================] - 3s 69us/step - loss: 1.2023 - accuracy: 0.5698 - val_loss: 1.4736 - val_accuracy: 0.4836\n",
      "Epoch 97/100\n",
      "40000/40000 [==============================] - 3s 85us/step - loss: 1.1944 - accuracy: 0.5709 - val_loss: 1.4420 - val_accuracy: 0.4950\n",
      "Epoch 98/100\n",
      "40000/40000 [==============================] - 4s 101us/step - loss: 1.2035 - accuracy: 0.5680 - val_loss: 1.4641 - val_accuracy: 0.4842\n",
      "Epoch 99/100\n",
      "40000/40000 [==============================] - 3s 83us/step - loss: 1.1792 - accuracy: 0.5771 - val_loss: 1.4967 - val_accuracy: 0.4786\n",
      "Epoch 100/100\n",
      "40000/40000 [==============================] - 3s 80us/step - loss: 1.1776 - accuracy: 0.5790 - val_loss: 1.4597 - val_accuracy: 0.4918\n",
      "Wall time: 4min 21s\n"
     ]
    },
    {
     "data": {
      "text/plain": [
       "<keras.callbacks.callbacks.History at 0x1a8dba6d5f8>"
      ]
     },
     "execution_count": 40,
     "metadata": {},
     "output_type": "execute_result"
    }
   ],
   "source": [
    "%%time\n",
    "model_1.fit(x_train,y_train ,batch_size=1000, epochs=100,validation_data=(x_val,y_val),\n",
    "            callbacks=[get_tensorboard(model_1)])"
   ]
  },
  {
   "cell_type": "code",
   "execution_count": 41,
   "metadata": {},
   "outputs": [
    {
     "name": "stdout",
     "output_type": "stream",
     "text": [
      "Cannot create a file when that file already exists\n",
      "Train on 40000 samples, validate on 10000 samples\n",
      "Epoch 1/100\n",
      "40000/40000 [==============================] - 4s 100us/step - loss: 2.2345 - accuracy: 0.1434 - val_loss: 2.1936 - val_accuracy: 0.1565\n",
      "Epoch 2/100\n",
      "40000/40000 [==============================] - 4s 104us/step - loss: 2.1751 - accuracy: 0.1612 - val_loss: 2.1603 - val_accuracy: 0.1654\n",
      "Epoch 3/100\n",
      "40000/40000 [==============================] - 4s 106us/step - loss: 2.1465 - accuracy: 0.1752 - val_loss: 2.1403 - val_accuracy: 0.1975\n",
      "Epoch 4/100\n",
      "40000/40000 [==============================] - 5s 117us/step - loss: 2.1081 - accuracy: 0.2108 - val_loss: 2.0802 - val_accuracy: 0.2277\n",
      "Epoch 5/100\n",
      "40000/40000 [==============================] - 4s 107us/step - loss: 2.0540 - accuracy: 0.2255 - val_loss: 2.0516 - val_accuracy: 0.2250\n",
      "Epoch 6/100\n",
      "40000/40000 [==============================] - 4s 109us/step - loss: 1.9982 - accuracy: 0.2476 - val_loss: 1.9623 - val_accuracy: 0.2732\n",
      "Epoch 7/100\n",
      "40000/40000 [==============================] - 4s 111us/step - loss: 1.9345 - accuracy: 0.2716 - val_loss: 1.8974 - val_accuracy: 0.2914\n",
      "Epoch 8/100\n",
      "40000/40000 [==============================] - 4s 107us/step - loss: 1.8688 - accuracy: 0.3018 - val_loss: 1.8328 - val_accuracy: 0.3232\n",
      "Epoch 9/100\n",
      "40000/40000 [==============================] - 4s 98us/step - loss: 1.8345 - accuracy: 0.3195 - val_loss: 1.8100 - val_accuracy: 0.3312\n",
      "Epoch 10/100\n",
      "40000/40000 [==============================] - 4s 100us/step - loss: 1.7836 - accuracy: 0.3471 - val_loss: 1.7469 - val_accuracy: 0.3672\n",
      "Epoch 11/100\n",
      "40000/40000 [==============================] - 4s 104us/step - loss: 1.7489 - accuracy: 0.3615 - val_loss: 1.7058 - val_accuracy: 0.3796\n",
      "Epoch 12/100\n",
      "40000/40000 [==============================] - 4s 105us/step - loss: 1.7244 - accuracy: 0.3749 - val_loss: 1.6991 - val_accuracy: 0.3842\n",
      "Epoch 13/100\n",
      "40000/40000 [==============================] - 4s 103us/step - loss: 1.7112 - accuracy: 0.3785 - val_loss: 1.6692 - val_accuracy: 0.3893\n",
      "Epoch 14/100\n",
      "40000/40000 [==============================] - 4s 109us/step - loss: 1.6829 - accuracy: 0.3909 - val_loss: 1.6509 - val_accuracy: 0.4016\n",
      "Epoch 15/100\n",
      "40000/40000 [==============================] - 4s 109us/step - loss: 1.6684 - accuracy: 0.3952 - val_loss: 1.6288 - val_accuracy: 0.4122\n",
      "Epoch 16/100\n",
      "40000/40000 [==============================] - 5s 114us/step - loss: 1.6368 - accuracy: 0.4101 - val_loss: 1.6067 - val_accuracy: 0.4199\n",
      "Epoch 17/100\n",
      "40000/40000 [==============================] - 4s 112us/step - loss: 1.6258 - accuracy: 0.4137 - val_loss: 1.6041 - val_accuracy: 0.4192\n",
      "Epoch 18/100\n",
      "40000/40000 [==============================] - 6s 146us/step - loss: 1.6132 - accuracy: 0.4189 - val_loss: 1.5872 - val_accuracy: 0.4312\n",
      "Epoch 19/100\n",
      "40000/40000 [==============================] - 4s 112us/step - loss: 1.5983 - accuracy: 0.4277 - val_loss: 1.6043 - val_accuracy: 0.4211\n",
      "Epoch 20/100\n",
      "40000/40000 [==============================] - 4s 105us/step - loss: 1.5914 - accuracy: 0.4309 - val_loss: 1.5705 - val_accuracy: 0.4356\n",
      "Epoch 21/100\n",
      "40000/40000 [==============================] - 5s 114us/step - loss: 1.5788 - accuracy: 0.4351 - val_loss: 1.5707 - val_accuracy: 0.4349\n",
      "Epoch 22/100\n",
      "40000/40000 [==============================] - 4s 111us/step - loss: 1.5676 - accuracy: 0.4412 - val_loss: 1.5516 - val_accuracy: 0.4465\n",
      "Epoch 23/100\n",
      "40000/40000 [==============================] - 4s 109us/step - loss: 1.5531 - accuracy: 0.4450 - val_loss: 1.5403 - val_accuracy: 0.4495\n",
      "Epoch 24/100\n",
      "40000/40000 [==============================] - 4s 112us/step - loss: 1.5443 - accuracy: 0.4476 - val_loss: 1.5373 - val_accuracy: 0.4500\n",
      "Epoch 25/100\n",
      "40000/40000 [==============================] - 4s 110us/step - loss: 1.5397 - accuracy: 0.4476 - val_loss: 1.5488 - val_accuracy: 0.4443\n",
      "Epoch 26/100\n",
      "40000/40000 [==============================] - 4s 111us/step - loss: 1.5302 - accuracy: 0.4536 - val_loss: 1.5133 - val_accuracy: 0.4628\n",
      "Epoch 27/100\n",
      "40000/40000 [==============================] - 4s 110us/step - loss: 1.5184 - accuracy: 0.4576 - val_loss: 1.5116 - val_accuracy: 0.4590\n",
      "Epoch 28/100\n",
      "40000/40000 [==============================] - 5s 116us/step - loss: 1.5132 - accuracy: 0.4584 - val_loss: 1.5045 - val_accuracy: 0.4652\n",
      "Epoch 29/100\n",
      "40000/40000 [==============================] - 4s 109us/step - loss: 1.5065 - accuracy: 0.4615 - val_loss: 1.5066 - val_accuracy: 0.4602\n",
      "Epoch 30/100\n",
      "40000/40000 [==============================] - 4s 107us/step - loss: 1.4990 - accuracy: 0.4641 - val_loss: 1.5033 - val_accuracy: 0.4622\n",
      "Epoch 31/100\n",
      "40000/40000 [==============================] - 5s 114us/step - loss: 1.4947 - accuracy: 0.4688 - val_loss: 1.4967 - val_accuracy: 0.4668\n",
      "Epoch 32/100\n",
      "40000/40000 [==============================] - 5s 113us/step - loss: 1.4858 - accuracy: 0.4710 - val_loss: 1.4877 - val_accuracy: 0.4666\n",
      "Epoch 33/100\n",
      "40000/40000 [==============================] - 5s 113us/step - loss: 1.4832 - accuracy: 0.4692 - val_loss: 1.4922 - val_accuracy: 0.4699\n",
      "Epoch 34/100\n",
      "40000/40000 [==============================] - 4s 112us/step - loss: 1.4760 - accuracy: 0.4728 - val_loss: 1.4797 - val_accuracy: 0.4743\n",
      "Epoch 35/100\n",
      "40000/40000 [==============================] - 5s 117us/step - loss: 1.4719 - accuracy: 0.4739 - val_loss: 1.4878 - val_accuracy: 0.4701\n",
      "Epoch 36/100\n",
      "40000/40000 [==============================] - 5s 113us/step - loss: 1.4716 - accuracy: 0.4744 - val_loss: 1.5213 - val_accuracy: 0.4566\n",
      "Epoch 37/100\n",
      "40000/40000 [==============================] - 5s 115us/step - loss: 1.4637 - accuracy: 0.4751 - val_loss: 1.4848 - val_accuracy: 0.4661\n",
      "Epoch 38/100\n",
      "40000/40000 [==============================] - 5s 120us/step - loss: 1.4506 - accuracy: 0.4813 - val_loss: 1.4658 - val_accuracy: 0.4776\n",
      "Epoch 39/100\n",
      "40000/40000 [==============================] - 5s 119us/step - loss: 1.4528 - accuracy: 0.4837 - val_loss: 1.4755 - val_accuracy: 0.4704\n",
      "Epoch 40/100\n",
      "40000/40000 [==============================] - 5s 114us/step - loss: 1.4524 - accuracy: 0.4811 - val_loss: 1.4764 - val_accuracy: 0.4705\n",
      "Epoch 41/100\n",
      "40000/40000 [==============================] - 5s 117us/step - loss: 1.4476 - accuracy: 0.4816 - val_loss: 1.4782 - val_accuracy: 0.4691\n",
      "Epoch 42/100\n",
      "40000/40000 [==============================] - 5s 120us/step - loss: 1.4419 - accuracy: 0.4836 - val_loss: 1.4600 - val_accuracy: 0.4823\n",
      "Epoch 43/100\n",
      "40000/40000 [==============================] - 4s 111us/step - loss: 1.4411 - accuracy: 0.4879 - val_loss: 1.4674 - val_accuracy: 0.4756\n",
      "Epoch 44/100\n",
      "40000/40000 [==============================] - 4s 107us/step - loss: 1.4407 - accuracy: 0.4860 - val_loss: 1.4633 - val_accuracy: 0.4800\n",
      "Epoch 45/100\n",
      "40000/40000 [==============================] - 4s 112us/step - loss: 1.4283 - accuracy: 0.4906 - val_loss: 1.4515 - val_accuracy: 0.4775\n",
      "Epoch 46/100\n",
      "40000/40000 [==============================] - 4s 105us/step - loss: 1.4292 - accuracy: 0.4895 - val_loss: 1.4507 - val_accuracy: 0.4838\n",
      "Epoch 47/100\n",
      "40000/40000 [==============================] - 4s 107us/step - loss: 1.4181 - accuracy: 0.4938 - val_loss: 1.4524 - val_accuracy: 0.4820\n",
      "Epoch 48/100\n",
      "40000/40000 [==============================] - 4s 105us/step - loss: 1.4145 - accuracy: 0.4952 - val_loss: 1.4589 - val_accuracy: 0.4741\n",
      "Epoch 49/100\n",
      "40000/40000 [==============================] - 4s 108us/step - loss: 1.4153 - accuracy: 0.4926 - val_loss: 1.4531 - val_accuracy: 0.4828\n",
      "Epoch 50/100\n",
      "40000/40000 [==============================] - 4s 105us/step - loss: 1.4051 - accuracy: 0.4975 - val_loss: 1.4396 - val_accuracy: 0.4834 loss: 1.4\n",
      "Epoch 51/100\n",
      "40000/40000 [==============================] - 4s 105us/step - loss: 1.4085 - accuracy: 0.4964 - val_loss: 1.4406 - val_accuracy: 0.4824\n",
      "Epoch 52/100\n",
      "40000/40000 [==============================] - 4s 107us/step - loss: 1.4062 - accuracy: 0.4996 - val_loss: 1.4559 - val_accuracy: 0.4755\n",
      "Epoch 53/100\n",
      "40000/40000 [==============================] - 4s 111us/step - loss: 1.3974 - accuracy: 0.5002 - val_loss: 1.4339 - val_accuracy: 0.4856\n",
      "Epoch 54/100\n",
      "40000/40000 [==============================] - 4s 105us/step - loss: 1.3955 - accuracy: 0.5024 - val_loss: 1.4334 - val_accuracy: 0.4836\n",
      "Epoch 55/100\n",
      "40000/40000 [==============================] - 4s 106us/step - loss: 1.3896 - accuracy: 0.5058 - val_loss: 1.4402 - val_accuracy: 0.4859\n",
      "Epoch 56/100\n",
      "40000/40000 [==============================] - 4s 112us/step - loss: 1.3840 - accuracy: 0.5054 - val_loss: 1.4291 - val_accuracy: 0.4871\n",
      "Epoch 57/100\n",
      "40000/40000 [==============================] - 4s 108us/step - loss: 1.3899 - accuracy: 0.5028 - val_loss: 1.4334 - val_accuracy: 0.4894\n",
      "Epoch 58/100\n",
      "40000/40000 [==============================] - 4s 106us/step - loss: 1.3892 - accuracy: 0.5029 - val_loss: 1.4343 - val_accuracy: 0.4911\n",
      "Epoch 59/100\n",
      "40000/40000 [==============================] - 4s 106us/step - loss: 1.3832 - accuracy: 0.5052 - val_loss: 1.4479 - val_accuracy: 0.4793\n",
      "Epoch 60/100\n",
      "40000/40000 [==============================] - 5s 116us/step - loss: 1.3859 - accuracy: 0.5052 - val_loss: 1.4307 - val_accuracy: 0.4861\n",
      "Epoch 61/100\n",
      "40000/40000 [==============================] - 4s 103us/step - loss: 1.3803 - accuracy: 0.5074 - val_loss: 1.4219 - val_accuracy: 0.4890\n",
      "Epoch 62/100\n",
      "40000/40000 [==============================] - 4s 103us/step - loss: 1.3693 - accuracy: 0.5117 - val_loss: 1.4371 - val_accuracy: 0.4849\n",
      "Epoch 63/100\n",
      "40000/40000 [==============================] - 5s 114us/step - loss: 1.3714 - accuracy: 0.5113 - val_loss: 1.4233 - val_accuracy: 0.4885\n",
      "Epoch 64/100\n",
      "40000/40000 [==============================] - 4s 107us/step - loss: 1.3680 - accuracy: 0.5142 - val_loss: 1.4229 - val_accuracy: 0.4898\n",
      "Epoch 65/100\n",
      "40000/40000 [==============================] - 4s 105us/step - loss: 1.3708 - accuracy: 0.5091 - val_loss: 1.4305 - val_accuracy: 0.4852\n",
      "Epoch 66/100\n",
      "40000/40000 [==============================] - 4s 107us/step - loss: 1.3655 - accuracy: 0.5115 - val_loss: 1.4141 - val_accuracy: 0.4932\n",
      "Epoch 67/100\n",
      "40000/40000 [==============================] - 4s 112us/step - loss: 1.3621 - accuracy: 0.5135 - val_loss: 1.4169 - val_accuracy: 0.4931\n",
      "Epoch 68/100\n",
      "40000/40000 [==============================] - 4s 109us/step - loss: 1.3620 - accuracy: 0.5157 - val_loss: 1.4387 - val_accuracy: 0.4856\n",
      "Epoch 69/100\n",
      "40000/40000 [==============================] - 4s 109us/step - loss: 1.3580 - accuracy: 0.5136 - val_loss: 1.4155 - val_accuracy: 0.4915\n",
      "Epoch 70/100\n",
      "40000/40000 [==============================] - 4s 112us/step - loss: 1.3605 - accuracy: 0.5133 - val_loss: 1.4173 - val_accuracy: 0.4906\n",
      "Epoch 71/100\n",
      "40000/40000 [==============================] - 5s 120us/step - loss: 1.3509 - accuracy: 0.5145 - val_loss: 1.4190 - val_accuracy: 0.4907\n",
      "Epoch 72/100\n",
      "40000/40000 [==============================] - 5s 119us/step - loss: 1.3497 - accuracy: 0.5181 - val_loss: 1.4252 - val_accuracy: 0.4913\n",
      "Epoch 73/100\n",
      "40000/40000 [==============================] - 4s 106us/step - loss: 1.3483 - accuracy: 0.5185 - val_loss: 1.4177 - val_accuracy: 0.4942\n",
      "Epoch 74/100\n",
      "40000/40000 [==============================] - 5s 123us/step - loss: 1.3467 - accuracy: 0.5179 - val_loss: 1.4098 - val_accuracy: 0.4957\n",
      "Epoch 75/100\n",
      "40000/40000 [==============================] - 4s 107us/step - loss: 1.3524 - accuracy: 0.5186 - val_loss: 1.4223 - val_accuracy: 0.4901\n",
      "Epoch 76/100\n",
      "40000/40000 [==============================] - 4s 112us/step - loss: 1.3425 - accuracy: 0.5199 - val_loss: 1.4135 - val_accuracy: 0.4920\n",
      "Epoch 77/100\n",
      "40000/40000 [==============================] - 4s 108us/step - loss: 1.3486 - accuracy: 0.5176 - val_loss: 1.4237 - val_accuracy: 0.4945\n",
      "Epoch 78/100\n",
      "40000/40000 [==============================] - 4s 108us/step - loss: 1.3404 - accuracy: 0.5225 - val_loss: 1.4263 - val_accuracy: 0.4898\n",
      "Epoch 79/100\n",
      "40000/40000 [==============================] - 4s 106us/step - loss: 1.3382 - accuracy: 0.5213 - val_loss: 1.4125 - val_accuracy: 0.4913\n",
      "Epoch 80/100\n",
      "40000/40000 [==============================] - 4s 111us/step - loss: 1.3313 - accuracy: 0.5220 - val_loss: 1.4107 - val_accuracy: 0.4969\n",
      "Epoch 81/100\n",
      "40000/40000 [==============================] - 4s 106us/step - loss: 1.3341 - accuracy: 0.5228 - val_loss: 1.4366 - val_accuracy: 0.4855\n",
      "Epoch 82/100\n",
      "40000/40000 [==============================] - 4s 106us/step - loss: 1.3300 - accuracy: 0.5264 - val_loss: 1.4107 - val_accuracy: 0.4962\n",
      "Epoch 83/100\n",
      "40000/40000 [==============================] - 4s 104us/step - loss: 1.3362 - accuracy: 0.5240 - val_loss: 1.4234 - val_accuracy: 0.4919\n",
      "Epoch 84/100\n",
      "40000/40000 [==============================] - 4s 109us/step - loss: 1.3329 - accuracy: 0.5243 - val_loss: 1.4193 - val_accuracy: 0.4898\n",
      "Epoch 85/100\n",
      "40000/40000 [==============================] - 4s 109us/step - loss: 1.3330 - accuracy: 0.5216 - val_loss: 1.4234 - val_accuracy: 0.4907\n",
      "Epoch 86/100\n",
      "40000/40000 [==============================] - 4s 110us/step - loss: 1.3360 - accuracy: 0.5222 - val_loss: 1.4219 - val_accuracy: 0.4954\n",
      "Epoch 87/100\n",
      "40000/40000 [==============================] - 4s 106us/step - loss: 1.3258 - accuracy: 0.5278 - val_loss: 1.4213 - val_accuracy: 0.4939\n",
      "Epoch 88/100\n",
      "40000/40000 [==============================] - 4s 107us/step - loss: 1.3210 - accuracy: 0.5281 - val_loss: 1.4235 - val_accuracy: 0.4915\n",
      "Epoch 89/100\n",
      "40000/40000 [==============================] - 4s 105us/step - loss: 1.3245 - accuracy: 0.5258 - val_loss: 1.4071 - val_accuracy: 0.5004\n",
      "Epoch 90/100\n",
      "40000/40000 [==============================] - 4s 106us/step - loss: 1.3250 - accuracy: 0.5253 - val_loss: 1.4091 - val_accuracy: 0.4958\n",
      "Epoch 91/100\n",
      "40000/40000 [==============================] - 4s 108us/step - loss: 1.3252 - accuracy: 0.5268 - val_loss: 1.4049 - val_accuracy: 0.4972\n",
      "Epoch 92/100\n",
      "40000/40000 [==============================] - 4s 105us/step - loss: 1.3095 - accuracy: 0.5312 - val_loss: 1.4042 - val_accuracy: 0.4967\n",
      "Epoch 93/100\n",
      "40000/40000 [==============================] - 4s 105us/step - loss: 1.3140 - accuracy: 0.5304 - val_loss: 1.3984 - val_accuracy: 0.5005\n",
      "Epoch 94/100\n",
      "40000/40000 [==============================] - 5s 114us/step - loss: 1.3188 - accuracy: 0.5282 - val_loss: 1.4018 - val_accuracy: 0.4981\n",
      "Epoch 95/100\n",
      "40000/40000 [==============================] - 5s 113us/step - loss: 1.3113 - accuracy: 0.5322 - val_loss: 1.4059 - val_accuracy: 0.4970\n",
      "Epoch 96/100\n",
      "40000/40000 [==============================] - 4s 107us/step - loss: 1.3155 - accuracy: 0.5275 - val_loss: 1.4037 - val_accuracy: 0.4972\n",
      "Epoch 97/100\n",
      "40000/40000 [==============================] - 4s 105us/step - loss: 1.3167 - accuracy: 0.5266 - val_loss: 1.4186 - val_accuracy: 0.4955\n",
      "Epoch 98/100\n",
      "40000/40000 [==============================] - 5s 113us/step - loss: 1.3208 - accuracy: 0.5266 - val_loss: 1.4048 - val_accuracy: 0.4986\n",
      "Epoch 99/100\n",
      "40000/40000 [==============================] - 4s 110us/step - loss: 1.3072 - accuracy: 0.5327 - val_loss: 1.4059 - val_accuracy: 0.5002\n",
      "Epoch 100/100\n",
      "40000/40000 [==============================] - 5s 113us/step - loss: 1.3096 - accuracy: 0.5299 - val_loss: 1.3994 - val_accuracy: 0.4995\n",
      "Wall time: 7min 43s\n"
     ]
    },
    {
     "data": {
      "text/plain": [
       "<keras.callbacks.callbacks.History at 0x1a8dd7612e8>"
      ]
     },
     "execution_count": 41,
     "metadata": {},
     "output_type": "execute_result"
    }
   ],
   "source": [
    "%%time\n",
    "model_2.fit(x_train,y_train ,batch_size=1000, epochs=100,validation_data=(x_val,y_val),\n",
    "            callbacks=[get_tensorboard(model_2)])"
   ]
  },
  {
   "cell_type": "code",
   "execution_count": null,
   "metadata": {},
   "outputs": [],
   "source": [
    "#%%time\n",
    "#model_3.fit(x_train,y_train ,batch_size=1000, epochs=150,validation_data=(x_val,y_val),\n",
    " #           callbacks=[get_tensorboard(model_2)]"
   ]
  },
  {
   "cell_type": "code",
   "execution_count": 43,
   "metadata": {},
   "outputs": [
    {
     "data": {
      "text/plain": [
       "(3072,)"
      ]
     },
     "execution_count": 43,
     "metadata": {},
     "output_type": "execute_result"
    }
   ],
   "source": [
    "x_val[0].shape"
   ]
  },
  {
   "cell_type": "code",
   "execution_count": 44,
   "metadata": {},
   "outputs": [],
   "source": [
    "test = np.expand_dims(x_val[0],axis = 0)"
   ]
  },
  {
   "cell_type": "code",
   "execution_count": 45,
   "metadata": {},
   "outputs": [
    {
     "data": {
      "text/plain": [
       "(1, 3072)"
      ]
     },
     "execution_count": 45,
     "metadata": {},
     "output_type": "execute_result"
    }
   ],
   "source": [
    "test.shape"
   ]
  },
  {
   "cell_type": "code",
   "execution_count": 47,
   "metadata": {},
   "outputs": [],
   "source": [
    "np.set_printoptions(precision = 3)"
   ]
  },
  {
   "cell_type": "code",
   "execution_count": 48,
   "metadata": {},
   "outputs": [
    {
     "data": {
      "text/plain": [
       "array([[4.622e-02, 9.229e-04, 7.853e-02, 7.560e-02, 1.445e-01, 1.200e-01,\n",
       "        4.293e-01, 1.039e-01, 1.433e-04, 8.036e-04]], dtype=float32)"
      ]
     },
     "execution_count": 48,
     "metadata": {},
     "output_type": "execute_result"
    }
   ],
   "source": [
    "model_2.predict(test)"
   ]
  },
  {
   "cell_type": "code",
   "execution_count": 49,
   "metadata": {},
   "outputs": [
    {
     "data": {
      "text/plain": [
       "array([6], dtype=int64)"
      ]
     },
     "execution_count": 49,
     "metadata": {},
     "output_type": "execute_result"
    }
   ],
   "source": [
    "model_2.predict_classes(test)"
   ]
  },
  {
   "cell_type": "code",
   "execution_count": 50,
   "metadata": {},
   "outputs": [
    {
     "data": {
      "text/plain": [
       "array([6], dtype=uint8)"
      ]
     },
     "execution_count": 50,
     "metadata": {},
     "output_type": "execute_result"
    }
   ],
   "source": [
    "y_val[0]"
   ]
  },
  {
   "cell_type": "code",
   "execution_count": 53,
   "metadata": {},
   "outputs": [],
   "source": [
    "predict = model_2.predict_classes(x_val[:10])"
   ]
  },
  {
   "cell_type": "code",
   "execution_count": 55,
   "metadata": {},
   "outputs": [
    {
     "data": {
      "text/plain": [
       "array([6, 1, 9, 6, 8, 7, 2, 7, 8, 9], dtype=int64)"
      ]
     },
     "execution_count": 55,
     "metadata": {},
     "output_type": "execute_result"
    }
   ],
   "source": [
    "predict"
   ]
  },
  {
   "cell_type": "code",
   "execution_count": 57,
   "metadata": {},
   "outputs": [],
   "source": [
    "act = y_val[:10]"
   ]
  },
  {
   "cell_type": "code",
   "execution_count": 65,
   "metadata": {},
   "outputs": [
    {
     "name": "stdout",
     "output_type": "stream",
     "text": [
      "Actual value: [6] Predicted Value: 6\n",
      "Actual value: [9] Predicted Value: 1\n",
      "Actual value: [9] Predicted Value: 9\n",
      "Actual value: [4] Predicted Value: 6\n",
      "Actual value: [1] Predicted Value: 8\n",
      "Actual value: [1] Predicted Value: 7\n",
      "Actual value: [2] Predicted Value: 2\n",
      "Actual value: [7] Predicted Value: 7\n",
      "Actual value: [8] Predicted Value: 8\n",
      "Actual value: [3] Predicted Value: 9\n"
     ]
    }
   ],
   "source": [
    "correct = 0\n",
    "incorrect = 0\n",
    "for i in range(10):\n",
    "    print('Actual value: {} Predicted Value: {}'.format(act[i],predict[i]))\n",
    "        "
   ]
  },
  {
   "cell_type": "code",
   "execution_count": 66,
   "metadata": {},
   "outputs": [
    {
     "data": {
      "text/plain": [
       "['loss', 'accuracy']"
      ]
     },
     "execution_count": 66,
     "metadata": {},
     "output_type": "execute_result"
    }
   ],
   "source": [
    "model_2.metrics_names"
   ]
  },
  {
   "cell_type": "code",
   "execution_count": 69,
   "metadata": {},
   "outputs": [
    {
     "name": "stdout",
     "output_type": "stream",
     "text": [
      "10000/10000 [==============================] - 0s 45us/step\n",
      "Test loss :1.4 and Test accuracy50.5%\n"
     ]
    }
   ],
   "source": [
    "test_loss , test_accuracy = model_2.evaluate(x_test,y_test)\n",
    "print(f'Test loss :{test_loss:0.3} and Test accuracy{test_accuracy:0.1%}')"
   ]
  },
  {
   "cell_type": "code",
   "execution_count": 70,
   "metadata": {},
   "outputs": [],
   "source": [
    "predictions = model_2.predict_classes(x_test)"
   ]
  },
  {
   "cell_type": "code",
   "execution_count": 71,
   "metadata": {},
   "outputs": [],
   "source": [
    "from sklearn.metrics import confusion_matrix"
   ]
  },
  {
   "cell_type": "code",
   "execution_count": 72,
   "metadata": {},
   "outputs": [],
   "source": [
    "conf_met = confusion_matrix(y_true=y_test, y_pred=predictions)"
   ]
  },
  {
   "cell_type": "code",
   "execution_count": 74,
   "metadata": {},
   "outputs": [
    {
     "data": {
      "text/plain": [
       "(10, 10)"
      ]
     },
     "execution_count": 74,
     "metadata": {},
     "output_type": "execute_result"
    }
   ],
   "source": [
    "conf_met.shape"
   ]
  },
  {
   "cell_type": "code",
   "execution_count": 83,
   "metadata": {},
   "outputs": [
    {
     "data": {
      "text/plain": [
       "<matplotlib.axes._subplots.AxesSubplot at 0x1a8e43db208>"
      ]
     },
     "execution_count": 83,
     "metadata": {},
     "output_type": "execute_result"
    },
    {
     "data": {
      "image/png": "[encoded data removed]",
      "text/plain": [
       "<Figure size 1000x1000 with 2 Axes>"
      ]
     },
     "metadata": {
      "needs_background": "light"
     },
     "output_type": "display_data"
    }
   ],
   "source": [
    "plt.figure(figsize = (10,10),dpi =100)\n",
    "sns.heatmap(conf_met, cbar = True , annot = True, square = True, fmt = '.2f',cmap = 'Greens',\n",
    "            xticklabels=LABELS,yticklabels = LABELS)"
   ]
  },
  {
   "cell_type": "markdown",
   "metadata": {},
   "source": [
    "# Recall = TP/(TP+FN)\n"
   ]
  },
  {
   "cell_type": "markdown",
   "metadata": {},
   "source": [
    "# Precision = TP/(TP+FP)"
   ]
  },
  {
   "cell_type": "code",
   "execution_count": 84,
   "metadata": {},
   "outputs": [
    {
     "data": {
      "text/plain": [
       "array([0.551, 0.578, 0.403, 0.316, 0.422, 0.353, 0.63 , 0.575, 0.634,\n",
       "       0.586])"
      ]
     },
     "execution_count": 84,
     "metadata": {},
     "output_type": "execute_result"
    }
   ],
   "source": [
    "#Recall\n",
    "recall = np.diag(conf_met)/np.sum(conf_met,axis= 1)\n",
    "recall"
   ]
  },
  {
   "cell_type": "code",
   "execution_count": 85,
   "metadata": {},
   "outputs": [
    {
     "data": {
      "text/plain": [
       "array([0.589, 0.661, 0.367, 0.348, 0.437, 0.422, 0.491, 0.569, 0.628,\n",
       "       0.543])"
      ]
     },
     "execution_count": 85,
     "metadata": {},
     "output_type": "execute_result"
    }
   ],
   "source": [
    "#Precision\n",
    "precision = np.diag(conf_met)/np.sum(conf_met,axis = 0)\n",
    "precision"
   ]
  },
  {
   "cell_type": "code",
   "execution_count": 88,
   "metadata": {},
   "outputs": [
    {
     "name": "stdout",
     "output_type": "stream",
     "text": [
      "Recall of the model: 50.48%\n",
      "Precision of the model: 50.55%\n"
     ]
    }
   ],
   "source": [
    "avg_recall = np.mean(recall)\n",
    "avg_precision = np.mean(precision)\n",
    "print(f'Recall of the model: {avg_recall:.2%}')\n",
    "print(f'Precision of the model: {avg_precision:.2%}')"
   ]
  },
  {
   "cell_type": "markdown",
   "metadata": {},
   "source": [
    "# F-score = 2 * (Precision * Recall)/(Precision + Recall)"
   ]
  },
  {
   "cell_type": "code",
   "execution_count": 91,
   "metadata": {},
   "outputs": [
    {
     "name": "stdout",
     "output_type": "stream",
     "text": [
      "The F-score: 50.51%\n"
     ]
    }
   ],
   "source": [
    "f_score = 2 * ((avg_precision*avg_recall)/(avg_precision+avg_recall))\n",
    "print(f'The F-score: {f_score:.2%}')"
   ]
  },
  {
   "cell_type": "code",
   "execution_count": null,
   "metadata": {},
   "outputs": [],
   "source": []
  }
 ],
 "metadata": {
  "kernelspec": {
   "display_name": "Python 3",
   "language": "python",
   "name": "python3"
  },
  "language_info": {
   "codemirror_mode": {
    "name": "ipython",
    "version": 3
   },
   "file_extension": ".py",
   "mimetype": "text/x-python",
   "name": "python",
   "nbconvert_exporter": "python",
   "pygments_lexer": "ipython3",
   "version": "3.7.3"
  }
 },
 "nbformat": 4,
 "nbformat_minor": 2
}
